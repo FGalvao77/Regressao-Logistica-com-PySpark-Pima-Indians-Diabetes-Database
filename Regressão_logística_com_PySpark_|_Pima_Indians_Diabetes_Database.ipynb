{
  "nbformat": 4,
  "nbformat_minor": 0,
  "metadata": {
    "kernelspec": {
      "display_name": "Python 3",
      "language": "python",
      "name": "python3"
    },
    "language_info": {
      "codemirror_mode": {
        "name": "ipython",
        "version": 3
      },
      "file_extension": ".py",
      "mimetype": "text/x-python",
      "name": "python",
      "nbconvert_exporter": "python",
      "pygments_lexer": "ipython3",
      "version": "3.6.3"
    },
    "colab": {
      "name": "Regressão logística com PySpark | Pima Indians Diabetes Database.ipynb",
      "provenance": [],
      "collapsed_sections": [],
      "include_colab_link": true
    }
  },
  "cells": [
    {
      "cell_type": "markdown",
      "metadata": {
        "id": "view-in-github",
        "colab_type": "text"
      },
      "source": [
        "<a href=\"https://colab.research.google.com/github/FGalvao77/Regressao-Logistica-com-PySpark-Pima-Indians-Diabetes-Database/blob/main/Regress%C3%A3o_log%C3%ADstica_com_PySpark_%7C_Pima_Indians_Diabetes_Database.ipynb\" target=\"_parent\"><img src=\"https://colab.research.google.com/assets/colab-badge.svg\" alt=\"Open In Colab\"/></a>"
      ]
    },
    {
      "cell_type": "markdown",
      "metadata": {
        "id": "-PvyR1InN321"
      },
      "source": [
        "# **Regressão Logística com PySpark |  Pima Indians Diabetes Database**\n",
        "\n",
        "---\n",
        "\n"
      ]
    },
    {
      "cell_type": "markdown",
      "metadata": {
        "id": "FOVXEKlftkGW"
      },
      "source": [
        "**Informação sobre o conjunto de dados**\n",
        "\n",
        "Usaremos um conjunto de dados do [Pima Indians Diabetes Database](https://www.kaggle.com/uciml/pima-indians-diabetes-database) que está disponível no [Kaggle](https://www.kaggle.com/). \n",
        "\n",
        "Certas medidas de diagnóstico estão incluídas no conjunto de dados. Várias restrições foram colocadas na seleção dessas instâncias de um banco de dados maior. Em particular, todos os pacientes são mulheres com pelo menos 21 anos de herança indígena [Pima](https://en.wikipedia.org/wiki/Pima_people)."
      ]
    },
    {
      "cell_type": "markdown",
      "metadata": {
        "id": "IXj0UNSMVfY-"
      },
      "source": [
        "**Descrição do problema:**\n",
        "\n",
        "Criar um modelo de classificação para **diabetes**, utilizando o algoritmo [LogistRegression](https://spark.apache.org/docs/latest/api/python/reference/api/pyspark.ml.classification.LogisticRegression.html) do _PySpark_. "
      ]
    },
    {
      "cell_type": "markdown",
      "metadata": {
        "id": "nunJJKkrtoxl"
      },
      "source": [
        "## **Preparando o ambiente**"
      ]
    },
    {
      "cell_type": "markdown",
      "metadata": {
        "id": "D827ngMXtr0F"
      },
      "source": [
        "Primeiro vamos configurar o ambiente do _google colab_ para utilização do `PySpark`."
      ]
    },
    {
      "cell_type": "code",
      "metadata": {
        "id": "J4zqunP3OBYG"
      },
      "source": [
        "# instalando o PySpark\n",
        "# !pip install pyspark"
      ],
      "execution_count": 1,
      "outputs": []
    },
    {
      "cell_type": "code",
      "metadata": {
        "id": "2uKVTk2Ytvj9"
      },
      "source": [
        "# instalando as dependências\n",
        "!apt-get install openjdk-8-jdk-headless -qq > /dev/null\n",
        "!wget -q https://archive.apache.org/dist/spark/spark-3.1.2/spark-3.1.2-bin-hadoop3.2.tgz\n",
        "!tar xf spark-3.1.2-bin-hadoop3.2.tgz\n",
        "!pip install -q findspark\n",
        "!pip install -q pyspark"
      ],
      "execution_count": 2,
      "outputs": []
    },
    {
      "cell_type": "code",
      "metadata": {
        "colab": {
          "base_uri": "https://localhost:8080/"
        },
        "id": "R6MuiCbgtzDt",
        "outputId": "8184795e-0e49-4f8d-973d-1a5d27a92f89"
      },
      "source": [
        "# visualizando o diretório principal\n",
        "%ls"
      ],
      "execution_count": 3,
      "outputs": [
        {
          "output_type": "stream",
          "name": "stdout",
          "text": [
            "diabetes.csv  \u001b[0m\u001b[01;34mspark-3.1.2-bin-hadoop3.2\u001b[0m/     spark-3.1.2-bin-hadoop3.2.tgz.1\n",
            "\u001b[01;34msample_data\u001b[0m/  spark-3.1.2-bin-hadoop3.2.tgz\n"
          ]
        }
      ]
    },
    {
      "cell_type": "code",
      "metadata": {
        "colab": {
          "base_uri": "https://localhost:8080/"
        },
        "id": "RmTE0su0t2Km",
        "outputId": "49ac954b-0502-4b6e-9cba-7389338f15f6"
      },
      "source": [
        "# visualizando a pasta \"sample_data\" e seus elementos\n",
        "%ls sample_data/"
      ],
      "execution_count": 4,
      "outputs": [
        {
          "output_type": "stream",
          "name": "stdout",
          "text": [
            "\u001b[0m\u001b[01;32manscombe.json\u001b[0m*                mnist_test.csv\n",
            "california_housing_test.csv   mnist_train_small.csv\n",
            "california_housing_train.csv  \u001b[01;32mREADME.md\u001b[0m*\n"
          ]
        }
      ]
    },
    {
      "cell_type": "code",
      "metadata": {
        "id": "TS_tIlnmt5ke"
      },
      "source": [
        "# configurando as variáveis de ambiente\n",
        "import os\n",
        "\n",
        "os.environ['JAVA_HOME'] = '/usr/lib/jvm/java-8-openjdk-amd64'\n",
        "os.environ['SPARK_HOME'] = '/content/spark-3.1.2-bin-hadoop3.2'\n",
        "\n",
        "# tornando o pyspark \"importável\"\n",
        "import findspark\n",
        "findspark.init()"
      ],
      "execution_count": 5,
      "outputs": []
    },
    {
      "cell_type": "code",
      "metadata": {
        "colab": {
          "base_uri": "https://localhost:8080/"
        },
        "id": "UQsT3cR1t-SK",
        "outputId": "3083c2b3-5bcf-4ab9-a329-98e2f7000984"
      },
      "source": [
        "# visualizando se os diretórios/dependências necessita de atualizações\n",
        "!apt-get update"
      ],
      "execution_count": 6,
      "outputs": [
        {
          "output_type": "stream",
          "name": "stdout",
          "text": [
            "Ign:1 https://developer.download.nvidia.com/compute/cuda/repos/ubuntu1804/x86_64  InRelease\n",
            "Hit:2 http://archive.ubuntu.com/ubuntu bionic InRelease\n",
            "Get:3 http://security.ubuntu.com/ubuntu bionic-security InRelease [88.7 kB]\n",
            "Ign:4 https://developer.download.nvidia.com/compute/machine-learning/repos/ubuntu1804/x86_64  InRelease\n",
            "Get:5 https://cloud.r-project.org/bin/linux/ubuntu bionic-cran40/ InRelease [3,626 B]\n",
            "Hit:6 http://ppa.launchpad.net/c2d4u.team/c2d4u4.0+/ubuntu bionic InRelease\n",
            "Hit:7 https://developer.download.nvidia.com/compute/cuda/repos/ubuntu1804/x86_64  Release\n",
            "Hit:8 https://developer.download.nvidia.com/compute/machine-learning/repos/ubuntu1804/x86_64  Release\n",
            "Get:9 http://archive.ubuntu.com/ubuntu bionic-updates InRelease [88.7 kB]\n",
            "Hit:10 http://ppa.launchpad.net/cran/libgit2/ubuntu bionic InRelease\n",
            "Hit:11 http://ppa.launchpad.net/deadsnakes/ppa/ubuntu bionic InRelease\n",
            "Get:12 http://archive.ubuntu.com/ubuntu bionic-backports InRelease [74.6 kB]\n",
            "Hit:13 http://ppa.launchpad.net/graphics-drivers/ppa/ubuntu bionic InRelease\n",
            "Fetched 256 kB in 3s (101 kB/s)\n",
            "Reading package lists... Done\n"
          ]
        }
      ]
    },
    {
      "cell_type": "code",
      "metadata": {
        "colab": {
          "base_uri": "https://localhost:8080/"
        },
        "id": "5057OpBqt-Pb",
        "outputId": "4c3e9452-d410-412b-81d1-a603b107e80d"
      },
      "source": [
        "# atualizando os diretórios/dependências\n",
        "!apt upgrade"
      ],
      "execution_count": 7,
      "outputs": [
        {
          "output_type": "stream",
          "name": "stdout",
          "text": [
            "Reading package lists... Done\n",
            "Building dependency tree       \n",
            "Reading state information... Done\n",
            "Calculating upgrade... Done\n",
            "The following packages have been kept back:\n",
            "  libcudnn8 libcudnn8-dev libnccl-dev libnccl2\n",
            "0 upgraded, 0 newly installed, 0 to remove and 4 not upgraded.\n"
          ]
        }
      ]
    },
    {
      "cell_type": "code",
      "metadata": {
        "colab": {
          "base_uri": "https://localhost:8080/"
        },
        "id": "A1QpHDogt-Ml",
        "outputId": "b6379adb-9181-4fe6-f916-557de597d7d2"
      },
      "source": [
        "# removendo aplicações obsoletas\n",
        "!apt autoremove"
      ],
      "execution_count": 8,
      "outputs": [
        {
          "output_type": "stream",
          "name": "stdout",
          "text": [
            "Reading package lists... Done\n",
            "Building dependency tree       \n",
            "Reading state information... Done\n",
            "0 upgraded, 0 newly installed, 0 to remove and 4 not upgraded.\n"
          ]
        }
      ]
    },
    {
      "cell_type": "markdown",
      "metadata": {
        "id": "eVU05mjZuWkk"
      },
      "source": [
        "**Inicializando a sessão Spark**\n",
        "\n",
        "Segundo passo, precisamos inicializar a sessão Spark."
      ]
    },
    {
      "cell_type": "code",
      "metadata": {
        "id": "Xc_Sq3UhuFpm"
      },
      "source": [
        "# importando a biblioteca para iniciar a sessão spark\n",
        "from pyspark.sql import SparkSession"
      ],
      "execution_count": 9,
      "outputs": []
    },
    {
      "cell_type": "code",
      "metadata": {
        "id": "phcelMFPuFkM"
      },
      "source": [
        "# iniciando a sessão spark\n",
        "spark = SparkSession.builder\\\n",
        "    .master('local[*]')\\\n",
        "    .appName('PySpark MLlib - LogisticRegression | Pima Indians Diabetes Database')\\\n",
        "    .getOrCreate()"
      ],
      "execution_count": 10,
      "outputs": []
    },
    {
      "cell_type": "code",
      "metadata": {
        "colab": {
          "base_uri": "https://localhost:8080/",
          "height": 219
        },
        "id": "LgO6gjEbuFiH",
        "outputId": "d4beab76-9ec5-4d28-d2d0-38dd299c7363"
      },
      "source": [
        "# visualizando a sessão instanciada\n",
        "spark"
      ],
      "execution_count": 11,
      "outputs": [
        {
          "output_type": "execute_result",
          "data": {
            "text/html": [
              "\n",
              "            <div>\n",
              "                <p><b>SparkSession - in-memory</b></p>\n",
              "                \n",
              "        <div>\n",
              "            <p><b>SparkContext</b></p>\n",
              "\n",
              "            <p><a href=\"http://a2547d503e34:4040\">Spark UI</a></p>\n",
              "\n",
              "            <dl>\n",
              "              <dt>Version</dt>\n",
              "                <dd><code>v3.1.2</code></dd>\n",
              "              <dt>Master</dt>\n",
              "                <dd><code>local[*]</code></dd>\n",
              "              <dt>AppName</dt>\n",
              "                <dd><code>PySpark MLlib - LogisticRegression | Pima Indians Diabetes Database</code></dd>\n",
              "            </dl>\n",
              "        </div>\n",
              "        \n",
              "            </div>\n",
              "        "
            ],
            "text/plain": [
              "<pyspark.sql.session.SparkSession at 0x7f5531dc00d0>"
            ]
          },
          "metadata": {},
          "execution_count": 11
        }
      ]
    },
    {
      "cell_type": "markdown",
      "metadata": {
        "id": "fmaR8F8FN32_"
      },
      "source": [
        "## **Importando e carregando o conjunto de dados**"
      ]
    },
    {
      "cell_type": "code",
      "metadata": {
        "colab": {
          "base_uri": "https://localhost:8080/"
        },
        "id": "U0jELvKwN8O3",
        "outputId": "ebe2cbef-11e3-4800-a783-981e7a17c69e"
      },
      "source": [
        "!wget 'https://raw.githubusercontent.com/FGalvao77/datasets/main/diabetes.csv'"
      ],
      "execution_count": 12,
      "outputs": [
        {
          "output_type": "stream",
          "name": "stdout",
          "text": [
            "--2021-12-05 19:59:10--  https://raw.githubusercontent.com/FGalvao77/datasets/main/diabetes.csv\n",
            "Resolving raw.githubusercontent.com (raw.githubusercontent.com)... 185.199.108.133, 185.199.109.133, 185.199.110.133, ...\n",
            "Connecting to raw.githubusercontent.com (raw.githubusercontent.com)|185.199.108.133|:443... connected.\n",
            "HTTP request sent, awaiting response... 200 OK\n",
            "Length: 23873 (23K) [text/plain]\n",
            "Saving to: ‘diabetes.csv.1’\n",
            "\n",
            "\rdiabetes.csv.1        0%[                    ]       0  --.-KB/s               \rdiabetes.csv.1      100%[===================>]  23.31K  --.-KB/s    in 0.001s  \n",
            "\n",
            "2021-12-05 19:59:10 (31.7 MB/s) - ‘diabetes.csv.1’ saved [23873/23873]\n",
            "\n"
          ]
        }
      ]
    },
    {
      "cell_type": "code",
      "metadata": {
        "colab": {
          "base_uri": "https://localhost:8080/"
        },
        "id": "2FJqjhpKy6vt",
        "outputId": "cac25380-3b51-4a26-8bbd-8d38133e05cb"
      },
      "source": [
        "# visualizando o diretório principal\n",
        "%ls"
      ],
      "execution_count": 13,
      "outputs": [
        {
          "output_type": "stream",
          "name": "stdout",
          "text": [
            "diabetes.csv    \u001b[0m\u001b[01;34msample_data\u001b[0m/                spark-3.1.2-bin-hadoop3.2.tgz\n",
            "diabetes.csv.1  \u001b[01;34mspark-3.1.2-bin-hadoop3.2\u001b[0m/  spark-3.1.2-bin-hadoop3.2.tgz.1\n"
          ]
        }
      ]
    },
    {
      "cell_type": "code",
      "metadata": {
        "colab": {
          "base_uri": "https://localhost:8080/"
        },
        "id": "Die_E_egy8CV",
        "outputId": "dd0c542e-9b93-49c2-b669-360a4faf00da"
      },
      "source": [
        "!head diabetes.csv"
      ],
      "execution_count": 14,
      "outputs": [
        {
          "output_type": "stream",
          "name": "stdout",
          "text": [
            "Pregnancies,Glucose,BloodPressure,SkinThickness,Insulin,BMI,DiabetesPedigreeFunction,Age,Outcome\r\n",
            "6,148,72,35,0,33.6,0.627,50,1\r\n",
            "1,85,66,29,0,26.6,0.351,31,0\r\n",
            "8,183,64,0,0,23.3,0.672,32,1\r\n",
            "1,89,66,23,94,28.1,0.167,21,0\r\n",
            "0,137,40,35,168,43.1,2.288,33,1\r\n",
            "5,116,74,0,0,25.6,0.201,30,0\r\n",
            "3,78,50,32,88,31,0.248,26,1\r\n",
            "10,115,0,0,0,35.3,0.134,29,0\r\n",
            "2,197,70,45,543,30.5,0.158,53,1\r\n"
          ]
        }
      ]
    },
    {
      "cell_type": "markdown",
      "metadata": {
        "id": "YTQPd25KzwDS"
      },
      "source": [
        "**Carregando o conjunto de dados**\n",
        "\n",
        "Usaremos a função `.read()` semelhante ao **Pandas** para ler dados no formato _csv_. Podemos especificar manualmente as opções:   \n",
        "- `header` (cabeçalho): se o conjunto de dados tiver cabeçalhos de coluna, a opção de cabeçalho é definida como \"True\";\n",
        "- `sep` (separador): use a opção _sep_ para definir o único caractere como separador para cada campo e valor. Nosso arquivo é separado por  vírgula \"( , )\";\n",
        "- `inferSchema`: \"inferSchema\" prevê automaticamente o tipo de dados para cada variável. Se especificarmos \"True\", ele lerá uma amostra de dados do arquivo para extrair o esquema. Se for definido como \"False\", todas as colunas serão denotadas como \"string\". Portanto, teremos que especificar todos os tipos de dados da coluna manualmente."
      ]
    },
    {
      "cell_type": "code",
      "metadata": {
        "colab": {
          "base_uri": "https://localhost:8080/"
        },
        "id": "tm-Ai2C3N32_",
        "outputId": "65d21a9b-0af9-4dd2-a8fc-326ec10039dc"
      },
      "source": [
        "df = spark.read \\\n",
        "    .option('header', 'True')\\\n",
        "    .option('inferSchema', 'True')\\\n",
        "    .option('sep', ',')\\\n",
        "    .csv('/content/diabetes.csv')\n",
        " \n",
        "print('Há', df.count(), 'linhas', len(df.columns),\n",
        "      'colunas no conjunto de dados') "
      ],
      "execution_count": 15,
      "outputs": [
        {
          "output_type": "stream",
          "name": "stdout",
          "text": [
            "Há 768 linhas 9 colunas no conjunto de dados\n"
          ]
        }
      ]
    },
    {
      "cell_type": "markdown",
      "metadata": {
        "id": "OU6XtjqSN33A"
      },
      "source": [
        "## **Análise exploratória do conjunto de dados**"
      ]
    },
    {
      "cell_type": "markdown",
      "metadata": {
        "id": "nvBtblZ5z_Rd"
      },
      "source": [
        "Visualizando parte do conjunto de dados utilizando a função `.show()` e, passando com arguemento o número de linhas de interesse."
      ]
    },
    {
      "cell_type": "code",
      "metadata": {
        "colab": {
          "base_uri": "https://localhost:8080/"
        },
        "id": "AFx1_sQ4N33B",
        "outputId": "be39cd4e-b699-4ba3-a0c5-e07edc1a2a3e"
      },
      "source": [
        "df.show(5)"
      ],
      "execution_count": 16,
      "outputs": [
        {
          "output_type": "stream",
          "name": "stdout",
          "text": [
            "+-----------+-------+-------------+-------------+-------+----+------------------------+---+-------+\n",
            "|Pregnancies|Glucose|BloodPressure|SkinThickness|Insulin| BMI|DiabetesPedigreeFunction|Age|Outcome|\n",
            "+-----------+-------+-------------+-------------+-------+----+------------------------+---+-------+\n",
            "|          6|    148|           72|           35|      0|33.6|                   0.627| 50|      1|\n",
            "|          1|     85|           66|           29|      0|26.6|                   0.351| 31|      0|\n",
            "|          8|    183|           64|            0|      0|23.3|                   0.672| 32|      1|\n",
            "|          1|     89|           66|           23|     94|28.1|                   0.167| 21|      0|\n",
            "|          0|    137|           40|           35|    168|43.1|                   2.288| 33|      1|\n",
            "+-----------+-------+-------------+-------------+-------+----+------------------------+---+-------+\n",
            "only showing top 5 rows\n",
            "\n"
          ]
        }
      ]
    },
    {
      "cell_type": "code",
      "metadata": {
        "colab": {
          "base_uri": "https://localhost:8080/"
        },
        "id": "0L5ljDsx0XXO",
        "outputId": "297108db-c2ad-4ca6-e1d5-48bd83d91be7"
      },
      "source": [
        "df.columns"
      ],
      "execution_count": 17,
      "outputs": [
        {
          "output_type": "execute_result",
          "data": {
            "text/plain": [
              "['Pregnancies',\n",
              " 'Glucose',\n",
              " 'BloodPressure',\n",
              " 'SkinThickness',\n",
              " 'Insulin',\n",
              " 'BMI',\n",
              " 'DiabetesPedigreeFunction',\n",
              " 'Age',\n",
              " 'Outcome']"
            ]
          },
          "metadata": {},
          "execution_count": 17
        }
      ]
    },
    {
      "cell_type": "markdown",
      "metadata": {
        "id": "ZQYxQM_L0bR2"
      },
      "source": [
        "**Dicionário:**\n",
        "\n",
        "O conjuntos de dados consistem em várias variáveis ​​preditoras médicas e uma variável alvo, a `Outcome`.\n",
        "\n",
        "As variáveis ​​preditoras incluem o número de gestações que a paciente teve, seu IMC, nível de insulina, idade e assim por diante.\n",
        "\n",
        "- `Pregnancies` (Gestações): Número de gestações;\n",
        "- `Glucose` (Glicose): concentração de glicose plasmática a 2 horas em um teste de tolerância oral à glicose;\n",
        "- `BloodPressure` (Pressão sanguínea): pressão arterial diastólica (mm Hg);\n",
        "- `SkinThickness` (Espessura da pele): espessura da dobra da pele do tríceps (mm);\n",
        "- `Insulin` (Insulina): insulina sérica de 2 horas (mu U/ml);\n",
        "- `BMI` (IMC): índice de massa corporal (peso em kg / (altura em m) ²);\n",
        "- `DiabetesPedigreeFunction`: função de pedigree do diabetes e,\n",
        "- `Age` (Idade): Idade (anos)\n",
        "- `Outcome` (Resultado): variável de classe (0 ou 1)."
      ]
    },
    {
      "cell_type": "markdown",
      "metadata": {
        "id": "HLR6td8c0iaH"
      },
      "source": [
        "Com a função `.printSchema()` podemos visualizar o tipo de dado das colunas."
      ]
    },
    {
      "cell_type": "code",
      "metadata": {
        "colab": {
          "base_uri": "https://localhost:8080/"
        },
        "id": "TxBzCWvhN33C",
        "outputId": "03250923-7a83-4c57-e88c-37b0b5c90813"
      },
      "source": [
        "df.printSchema()"
      ],
      "execution_count": 18,
      "outputs": [
        {
          "output_type": "stream",
          "name": "stdout",
          "text": [
            "root\n",
            " |-- Pregnancies: integer (nullable = true)\n",
            " |-- Glucose: integer (nullable = true)\n",
            " |-- BloodPressure: integer (nullable = true)\n",
            " |-- SkinThickness: integer (nullable = true)\n",
            " |-- Insulin: integer (nullable = true)\n",
            " |-- BMI: double (nullable = true)\n",
            " |-- DiabetesPedigreeFunction: double (nullable = true)\n",
            " |-- Age: integer (nullable = true)\n",
            " |-- Outcome: integer (nullable = true)\n",
            "\n"
          ]
        }
      ]
    },
    {
      "cell_type": "markdown",
      "metadata": {
        "id": "Z4-i287n0qyG"
      },
      "source": [
        "A função `.describe()` extrai as estatísticas descritiva do conjunto de dados."
      ]
    },
    {
      "cell_type": "code",
      "metadata": {
        "colab": {
          "base_uri": "https://localhost:8080/"
        },
        "id": "T1RiWyj50uTe",
        "outputId": "58f3eac8-33e1-4957-8ebe-d4f114b12e02"
      },
      "source": [
        "df.describe().show()"
      ],
      "execution_count": 19,
      "outputs": [
        {
          "output_type": "stream",
          "name": "stdout",
          "text": [
            "+-------+------------------+-----------------+------------------+------------------+------------------+------------------+------------------------+------------------+------------------+\n",
            "|summary|       Pregnancies|          Glucose|     BloodPressure|     SkinThickness|           Insulin|               BMI|DiabetesPedigreeFunction|               Age|           Outcome|\n",
            "+-------+------------------+-----------------+------------------+------------------+------------------+------------------+------------------------+------------------+------------------+\n",
            "|  count|               768|              768|               768|               768|               768|               768|                     768|               768|               768|\n",
            "|   mean|3.8450520833333335|     120.89453125|       69.10546875|20.536458333333332| 79.79947916666667|31.992578124999977|      0.4718763020833327|33.240885416666664|0.3489583333333333|\n",
            "| stddev|  3.36957806269887|31.97261819513622|19.355807170644777|15.952217567727642|115.24400235133803| 7.884160320375441|       0.331328595012775|11.760231540678689| 0.476951377242799|\n",
            "|    min|                 0|                0|                 0|                 0|                 0|               0.0|                   0.078|                21|                 0|\n",
            "|    max|                17|              199|               122|                99|               846|              67.1|                    2.42|                81|                 1|\n",
            "+-------+------------------+-----------------+------------------+------------------+------------------+------------------+------------------------+------------------+------------------+\n",
            "\n"
          ]
        }
      ]
    },
    {
      "cell_type": "code",
      "metadata": {
        "colab": {
          "base_uri": "https://localhost:8080/",
          "height": 363
        },
        "id": "o2hCAKJt04Xm",
        "outputId": "405c9c05-4cc9-4bea-9c80-61b0b33a6292"
      },
      "source": [
        "df.describe().toPandas().transpose()"
      ],
      "execution_count": 20,
      "outputs": [
        {
          "output_type": "execute_result",
          "data": {
            "text/html": [
              "<div>\n",
              "<style scoped>\n",
              "    .dataframe tbody tr th:only-of-type {\n",
              "        vertical-align: middle;\n",
              "    }\n",
              "\n",
              "    .dataframe tbody tr th {\n",
              "        vertical-align: top;\n",
              "    }\n",
              "\n",
              "    .dataframe thead th {\n",
              "        text-align: right;\n",
              "    }\n",
              "</style>\n",
              "<table border=\"1\" class=\"dataframe\">\n",
              "  <thead>\n",
              "    <tr style=\"text-align: right;\">\n",
              "      <th></th>\n",
              "      <th>0</th>\n",
              "      <th>1</th>\n",
              "      <th>2</th>\n",
              "      <th>3</th>\n",
              "      <th>4</th>\n",
              "    </tr>\n",
              "  </thead>\n",
              "  <tbody>\n",
              "    <tr>\n",
              "      <th>summary</th>\n",
              "      <td>count</td>\n",
              "      <td>mean</td>\n",
              "      <td>stddev</td>\n",
              "      <td>min</td>\n",
              "      <td>max</td>\n",
              "    </tr>\n",
              "    <tr>\n",
              "      <th>Pregnancies</th>\n",
              "      <td>768</td>\n",
              "      <td>3.8450520833333335</td>\n",
              "      <td>3.36957806269887</td>\n",
              "      <td>0</td>\n",
              "      <td>17</td>\n",
              "    </tr>\n",
              "    <tr>\n",
              "      <th>Glucose</th>\n",
              "      <td>768</td>\n",
              "      <td>120.89453125</td>\n",
              "      <td>31.97261819513622</td>\n",
              "      <td>0</td>\n",
              "      <td>199</td>\n",
              "    </tr>\n",
              "    <tr>\n",
              "      <th>BloodPressure</th>\n",
              "      <td>768</td>\n",
              "      <td>69.10546875</td>\n",
              "      <td>19.355807170644777</td>\n",
              "      <td>0</td>\n",
              "      <td>122</td>\n",
              "    </tr>\n",
              "    <tr>\n",
              "      <th>SkinThickness</th>\n",
              "      <td>768</td>\n",
              "      <td>20.536458333333332</td>\n",
              "      <td>15.952217567727642</td>\n",
              "      <td>0</td>\n",
              "      <td>99</td>\n",
              "    </tr>\n",
              "    <tr>\n",
              "      <th>Insulin</th>\n",
              "      <td>768</td>\n",
              "      <td>79.79947916666667</td>\n",
              "      <td>115.24400235133803</td>\n",
              "      <td>0</td>\n",
              "      <td>846</td>\n",
              "    </tr>\n",
              "    <tr>\n",
              "      <th>BMI</th>\n",
              "      <td>768</td>\n",
              "      <td>31.992578124999977</td>\n",
              "      <td>7.884160320375441</td>\n",
              "      <td>0.0</td>\n",
              "      <td>67.1</td>\n",
              "    </tr>\n",
              "    <tr>\n",
              "      <th>DiabetesPedigreeFunction</th>\n",
              "      <td>768</td>\n",
              "      <td>0.4718763020833327</td>\n",
              "      <td>0.331328595012775</td>\n",
              "      <td>0.078</td>\n",
              "      <td>2.42</td>\n",
              "    </tr>\n",
              "    <tr>\n",
              "      <th>Age</th>\n",
              "      <td>768</td>\n",
              "      <td>33.240885416666664</td>\n",
              "      <td>11.760231540678689</td>\n",
              "      <td>21</td>\n",
              "      <td>81</td>\n",
              "    </tr>\n",
              "    <tr>\n",
              "      <th>Outcome</th>\n",
              "      <td>768</td>\n",
              "      <td>0.3489583333333333</td>\n",
              "      <td>0.476951377242799</td>\n",
              "      <td>0</td>\n",
              "      <td>1</td>\n",
              "    </tr>\n",
              "  </tbody>\n",
              "</table>\n",
              "</div>"
            ],
            "text/plain": [
              "                              0                   1  ...      3     4\n",
              "summary                   count                mean  ...    min   max\n",
              "Pregnancies                 768  3.8450520833333335  ...      0    17\n",
              "Glucose                     768        120.89453125  ...      0   199\n",
              "BloodPressure               768         69.10546875  ...      0   122\n",
              "SkinThickness               768  20.536458333333332  ...      0    99\n",
              "Insulin                     768   79.79947916666667  ...      0   846\n",
              "BMI                         768  31.992578124999977  ...    0.0  67.1\n",
              "DiabetesPedigreeFunction    768  0.4718763020833327  ...  0.078  2.42\n",
              "Age                         768  33.240885416666664  ...     21    81\n",
              "Outcome                     768  0.3489583333333333  ...      0     1\n",
              "\n",
              "[10 rows x 5 columns]"
            ]
          },
          "metadata": {},
          "execution_count": 20
        }
      ]
    },
    {
      "cell_type": "code",
      "metadata": {
        "colab": {
          "base_uri": "https://localhost:8080/",
          "height": 300
        },
        "id": "ZU3yZiV_N33D",
        "outputId": "5350fd85-3af0-477b-fa9d-95c7f14f8b5f"
      },
      "source": [
        "# selecionando somente os atributos com dado do tipo \"int\"\n",
        "numeric_features = [t[0] for t in df.dtypes if t[1] == 'int']\n",
        "\n",
        "# estatística descritiva do conjunto de dados\n",
        "df.select(numeric_features).describe().toPandas().transpose()"
      ],
      "execution_count": 21,
      "outputs": [
        {
          "output_type": "execute_result",
          "data": {
            "text/html": [
              "<div>\n",
              "<style scoped>\n",
              "    .dataframe tbody tr th:only-of-type {\n",
              "        vertical-align: middle;\n",
              "    }\n",
              "\n",
              "    .dataframe tbody tr th {\n",
              "        vertical-align: top;\n",
              "    }\n",
              "\n",
              "    .dataframe thead th {\n",
              "        text-align: right;\n",
              "    }\n",
              "</style>\n",
              "<table border=\"1\" class=\"dataframe\">\n",
              "  <thead>\n",
              "    <tr style=\"text-align: right;\">\n",
              "      <th></th>\n",
              "      <th>0</th>\n",
              "      <th>1</th>\n",
              "      <th>2</th>\n",
              "      <th>3</th>\n",
              "      <th>4</th>\n",
              "    </tr>\n",
              "  </thead>\n",
              "  <tbody>\n",
              "    <tr>\n",
              "      <th>summary</th>\n",
              "      <td>count</td>\n",
              "      <td>mean</td>\n",
              "      <td>stddev</td>\n",
              "      <td>min</td>\n",
              "      <td>max</td>\n",
              "    </tr>\n",
              "    <tr>\n",
              "      <th>Pregnancies</th>\n",
              "      <td>768</td>\n",
              "      <td>3.8450520833333335</td>\n",
              "      <td>3.36957806269887</td>\n",
              "      <td>0</td>\n",
              "      <td>17</td>\n",
              "    </tr>\n",
              "    <tr>\n",
              "      <th>Glucose</th>\n",
              "      <td>768</td>\n",
              "      <td>120.89453125</td>\n",
              "      <td>31.97261819513622</td>\n",
              "      <td>0</td>\n",
              "      <td>199</td>\n",
              "    </tr>\n",
              "    <tr>\n",
              "      <th>BloodPressure</th>\n",
              "      <td>768</td>\n",
              "      <td>69.10546875</td>\n",
              "      <td>19.355807170644777</td>\n",
              "      <td>0</td>\n",
              "      <td>122</td>\n",
              "    </tr>\n",
              "    <tr>\n",
              "      <th>SkinThickness</th>\n",
              "      <td>768</td>\n",
              "      <td>20.536458333333332</td>\n",
              "      <td>15.952217567727642</td>\n",
              "      <td>0</td>\n",
              "      <td>99</td>\n",
              "    </tr>\n",
              "    <tr>\n",
              "      <th>Insulin</th>\n",
              "      <td>768</td>\n",
              "      <td>79.79947916666667</td>\n",
              "      <td>115.24400235133803</td>\n",
              "      <td>0</td>\n",
              "      <td>846</td>\n",
              "    </tr>\n",
              "    <tr>\n",
              "      <th>Age</th>\n",
              "      <td>768</td>\n",
              "      <td>33.240885416666664</td>\n",
              "      <td>11.760231540678689</td>\n",
              "      <td>21</td>\n",
              "      <td>81</td>\n",
              "    </tr>\n",
              "    <tr>\n",
              "      <th>Outcome</th>\n",
              "      <td>768</td>\n",
              "      <td>0.3489583333333333</td>\n",
              "      <td>0.476951377242799</td>\n",
              "      <td>0</td>\n",
              "      <td>1</td>\n",
              "    </tr>\n",
              "  </tbody>\n",
              "</table>\n",
              "</div>"
            ],
            "text/plain": [
              "                   0                   1                   2    3    4\n",
              "summary        count                mean              stddev  min  max\n",
              "Pregnancies      768  3.8450520833333335    3.36957806269887    0   17\n",
              "Glucose          768        120.89453125   31.97261819513622    0  199\n",
              "BloodPressure    768         69.10546875  19.355807170644777    0  122\n",
              "SkinThickness    768  20.536458333333332  15.952217567727642    0   99\n",
              "Insulin          768   79.79947916666667  115.24400235133803    0  846\n",
              "Age              768  33.240885416666664  11.760231540678689   21   81\n",
              "Outcome          768  0.3489583333333333   0.476951377242799    0    1"
            ]
          },
          "metadata": {},
          "execution_count": 21
        }
      ]
    },
    {
      "cell_type": "markdown",
      "metadata": {
        "id": "vsJCxwsh1XRw"
      },
      "source": [
        "**Distribuição das instâncias da variável alvo**"
      ]
    },
    {
      "cell_type": "code",
      "metadata": {
        "colab": {
          "base_uri": "https://localhost:8080/"
        },
        "id": "05w_rYdNN33E",
        "outputId": "9db0a7dd-18a4-4d11-e283-1c4b4c21645a"
      },
      "source": [
        "df.groupby('Outcome').count().show()"
      ],
      "execution_count": 22,
      "outputs": [
        {
          "output_type": "stream",
          "name": "stdout",
          "text": [
            "+-------+-----+\n",
            "|Outcome|count|\n",
            "+-------+-----+\n",
            "|      1|  268|\n",
            "|      0|  500|\n",
            "+-------+-----+\n",
            "\n"
          ]
        }
      ]
    },
    {
      "cell_type": "markdown",
      "metadata": {
        "id": "qW3WJ6U-2IXV"
      },
      "source": [
        "> Nossa variável alvo é \"Outcome\", não tem exatamente o mesmo número de instâncias em cada classe, mas essa diferença não é importante por enquanto."
      ]
    },
    {
      "cell_type": "markdown",
      "metadata": {
        "id": "NkQVwxQ4N33F"
      },
      "source": [
        "**Distribuição dos demais recursos**"
      ]
    },
    {
      "cell_type": "code",
      "metadata": {
        "colab": {
          "base_uri": "https://localhost:8080/",
          "height": 784
        },
        "id": "LZuIzGXBN33F",
        "outputId": "758708d0-a346-4257-cbde-2169e07e38a9"
      },
      "source": [
        "import matplotlib.pyplot as plt\n",
        "\n",
        "fig = plt.figure(figsize = (25,15))     # tamanho da figura\n",
        "\n",
        "title_y = fig.suptitle('Distribuição dos dados nos atributos',\n",
        "                      fontsize = 25, \n",
        "                      fontweight = 'bold',\n",
        "                      verticalalignment = 'center')\n",
        "\n",
        "for col, num in zip(df.toPandas().describe().columns, range(1,11)):\n",
        "    ax = fig.add_subplot(3, 4, num)\n",
        "    ax.hist(df.toPandas()[col])\n",
        "    # plt.style.use('dark_background') \n",
        "    plt.grid(False)\n",
        "    plt.xticks(rotation = 45, fontsize = 20)\n",
        "    plt.yticks(fontsize = 15)\n",
        "    plt.title(col.upper(),fontsize = 20)\n",
        "\n",
        "plt.tight_layout()\n",
        "title_y.set_y(0.95)\n",
        "\n",
        "fig.subplots_adjust(top = 0.85,hspace = 0.4)\n",
        "\n",
        "plt.show();"
      ],
      "execution_count": 23,
      "outputs": [
        {
          "output_type": "display_data",
          "data": {
            "image/png": "[encoded data removed]",
            "text/plain": [
              "<Figure size 1800x1080 with 9 Axes>"
            ]
          },
          "metadata": {
            "needs_background": "light"
          }
        }
      ]
    },
    {
      "cell_type": "markdown",
      "metadata": {
        "id": "19Cr7KdPN33F"
      },
      "source": [
        "**Verificando se o conjunto de dados contém valores nulos**"
      ]
    },
    {
      "cell_type": "code",
      "metadata": {
        "colab": {
          "base_uri": "https://localhost:8080/",
          "height": 81
        },
        "id": "2RCbOIYMN33G",
        "outputId": "5a05447a-8e25-4f48-febb-48d0f02c8aef"
      },
      "source": [
        "# from pyspark.sql.functions import isnan, when, count, col\n",
        "from pyspark.sql.functions import *\n",
        "\n",
        "df.select([count(when(isnan(c), c))\\\n",
        "           .alias(c) for c in df.columns])\\\n",
        "           .toPandas().head()"
      ],
      "execution_count": 24,
      "outputs": [
        {
          "output_type": "execute_result",
          "data": {
            "text/html": [
              "<div>\n",
              "<style scoped>\n",
              "    .dataframe tbody tr th:only-of-type {\n",
              "        vertical-align: middle;\n",
              "    }\n",
              "\n",
              "    .dataframe tbody tr th {\n",
              "        vertical-align: top;\n",
              "    }\n",
              "\n",
              "    .dataframe thead th {\n",
              "        text-align: right;\n",
              "    }\n",
              "</style>\n",
              "<table border=\"1\" class=\"dataframe\">\n",
              "  <thead>\n",
              "    <tr style=\"text-align: right;\">\n",
              "      <th></th>\n",
              "      <th>Pregnancies</th>\n",
              "      <th>Glucose</th>\n",
              "      <th>BloodPressure</th>\n",
              "      <th>SkinThickness</th>\n",
              "      <th>Insulin</th>\n",
              "      <th>BMI</th>\n",
              "      <th>DiabetesPedigreeFunction</th>\n",
              "      <th>Age</th>\n",
              "      <th>Outcome</th>\n",
              "    </tr>\n",
              "  </thead>\n",
              "  <tbody>\n",
              "    <tr>\n",
              "      <th>0</th>\n",
              "      <td>0</td>\n",
              "      <td>0</td>\n",
              "      <td>0</td>\n",
              "      <td>0</td>\n",
              "      <td>0</td>\n",
              "      <td>0</td>\n",
              "      <td>0</td>\n",
              "      <td>0</td>\n",
              "      <td>0</td>\n",
              "    </tr>\n",
              "  </tbody>\n",
              "</table>\n",
              "</div>"
            ],
            "text/plain": [
              "   Pregnancies  Glucose  BloodPressure  ...  DiabetesPedigreeFunction  Age  Outcome\n",
              "0            0        0              0  ...                         0    0        0\n",
              "\n",
              "[1 rows x 9 columns]"
            ]
          },
          "metadata": {},
          "execution_count": 24
        }
      ]
    },
    {
      "cell_type": "markdown",
      "metadata": {
        "id": "SFSR4dY32jtW"
      },
      "source": [
        "> Não temos valores nulos."
      ]
    },
    {
      "cell_type": "markdown",
      "metadata": {
        "id": "hVOxyslxN33G"
      },
      "source": [
        "**Funções definidas pelo usuário (UDF)**\n",
        "\n",
        "Podemos querer fazer várias transformações em nossos dados. Uma função definida pelo usuário (UDF) é uma função fornecida pelo usuário em momentos em que as funções integradas não são capazes de fazer o trabalho necessário. \n",
        "\n",
        "Podemos usar nossos `UDF's` para manipulação de dados. "
      ]
    },
    {
      "cell_type": "markdown",
      "metadata": {
        "id": "yHDO34Yq215L"
      },
      "source": [
        "**a) alterar o nome da coluna e converter a variável de destino (OutCome)**\n",
        "\n",
        "Vamos alterar os valores da variavel de 0 para “Não” e de 1 para “Sim”. Usaremos a função `udf()` para alterar o nome e os valores da variável de destino."
      ]
    },
    {
      "cell_type": "code",
      "metadata": {
        "colab": {
          "base_uri": "https://localhost:8080/"
        },
        "id": "31bsVVOl3ILI",
        "outputId": "d9a8154a-ec71-4091-eed5-d36f31ac0709"
      },
      "source": [
        "df.select('Outcome').show(5)"
      ],
      "execution_count": 25,
      "outputs": [
        {
          "output_type": "stream",
          "name": "stdout",
          "text": [
            "+-------+\n",
            "|Outcome|\n",
            "+-------+\n",
            "|      1|\n",
            "|      0|\n",
            "|      1|\n",
            "|      0|\n",
            "|      1|\n",
            "+-------+\n",
            "only showing top 5 rows\n",
            "\n"
          ]
        }
      ]
    },
    {
      "cell_type": "code",
      "metadata": {
        "collapsed": true,
        "id": "-M7OT981N33G"
      },
      "source": [
        "# from pyspark.sql.functions import udf\n",
        "target_udf = udf(lambda y: 'No' if y == 0 else 'yes', StringType())\n",
        "\n",
        "df = df.withColumn('Diabetes', target_udf('OutCome')).drop('OutCome')"
      ],
      "execution_count": 26,
      "outputs": []
    },
    {
      "cell_type": "code",
      "metadata": {
        "colab": {
          "base_uri": "https://localhost:8080/"
        },
        "id": "7AS8jZyc3YVJ",
        "outputId": "4c624b46-68d2-48df-f25f-62eda15582df"
      },
      "source": [
        "df.printSchema()"
      ],
      "execution_count": 27,
      "outputs": [
        {
          "output_type": "stream",
          "name": "stdout",
          "text": [
            "root\n",
            " |-- Pregnancies: integer (nullable = true)\n",
            " |-- Glucose: integer (nullable = true)\n",
            " |-- BloodPressure: integer (nullable = true)\n",
            " |-- SkinThickness: integer (nullable = true)\n",
            " |-- Insulin: integer (nullable = true)\n",
            " |-- BMI: double (nullable = true)\n",
            " |-- DiabetesPedigreeFunction: double (nullable = true)\n",
            " |-- Age: integer (nullable = true)\n",
            " |-- Diabetes: string (nullable = true)\n",
            "\n"
          ]
        }
      ]
    },
    {
      "cell_type": "markdown",
      "metadata": {
        "id": "oQotnKih3nrj"
      },
      "source": [
        "> Alteramos o nome da coluna e o tipo de dados desta coluna para \"string\"."
      ]
    },
    {
      "cell_type": "markdown",
      "metadata": {
        "id": "elgoP4rj3xpU"
      },
      "source": [
        "**b) criando uma nova coluna - \"Age_groups\"**\n",
        "\n",
        "Nosso objetivo é criar grupos de acordo com faixas etárias com a funcão `udf`. \n",
        "\n",
        "Porém antes de tudo, iremos criar uma função para separar as faixas de idade conforme nosso interesse e, para depois aplica-la e realizar a separação das faixas de idades. E por fim, criaremos um novo atributo com as faixas de idade e agregando esse novo recurso no conjunto de dados."
      ]
    },
    {
      "cell_type": "code",
      "metadata": {
        "collapsed": true,
        "id": "BwKP8-JNN33H"
      },
      "source": [
        "def udf_multiple(age):\n",
        "      if (age <= 25):\n",
        "        return 'under 25'\n",
        "      elif (age >= 25 and age <= 35):\n",
        "        return 'between 25 and 35'\n",
        "      elif (age > 35 and age < 50):\n",
        "        return 'between 36 and 49'\n",
        "      elif (age >= 50):\n",
        "        return 'over 50'\n",
        "      else: return 'N/A'\n",
        "\n",
        "age_udf = udf(udf_multiple)\n",
        "\n",
        "df = df.withColumn('Age_udf', age_udf('Age'))"
      ],
      "execution_count": 28,
      "outputs": []
    },
    {
      "cell_type": "code",
      "metadata": {
        "colab": {
          "base_uri": "https://localhost:8080/"
        },
        "id": "EORiGlB84CWM",
        "outputId": "d8238dc3-44b6-455d-d0a9-220c26175589"
      },
      "source": [
        "df.select('Age_udf').toPandas().nunique()"
      ],
      "execution_count": 29,
      "outputs": [
        {
          "output_type": "execute_result",
          "data": {
            "text/plain": [
              "Age_udf    4\n",
              "dtype: int64"
            ]
          },
          "metadata": {},
          "execution_count": 29
        }
      ]
    },
    {
      "cell_type": "markdown",
      "metadata": {
        "id": "4CUiXJmmN33H"
      },
      "source": [
        "**Função da janela (window) - Distribuição de grupos de idade**\n",
        "\n",
        "\n",
        "Podemos usar as funções “groupBy” e “Window” para ver a distribuição da glicose por faixa etária. A janela nos permite ver a porcentagem de cada grupo de idade no conjunto de dados total."
      ]
    },
    {
      "cell_type": "code",
      "metadata": {
        "collapsed": true,
        "id": "jCkBzlxkN33I"
      },
      "source": [
        "from pyspark.sql import functions as F\n",
        "# from pyspark.sql.functions import rank,sum,col\n",
        "from pyspark.sql import Window\n",
        "\n",
        "window = Window.rowsBetween(Window.unboundedPreceding, Window.unboundedFollowing)\n",
        "\n",
        "table = df.select(['Age_udf', 'Glucose']).\\\n",
        "    groupBy('Age_udf').\\\n",
        "        agg(F.count('Glucose').alias('User_COUNT'),\n",
        "            F.mean('Glucose').alias('Glucose_AVG'),\n",
        "            F.min('Glucose').alias('Glucose_MIN'),\n",
        "            F.max('Glucose').alias('Glucose_Max')).\\\n",
        "        withColumn('Total', sum(col('User_COUNT')).over(window)).\\\n",
        "        withColumn('Percent', col('User_COUNT') * 100 / col('Total')).\\\n",
        "        drop(col('Total')).sort(desc('Percent'))"
      ],
      "execution_count": 30,
      "outputs": []
    },
    {
      "cell_type": "code",
      "metadata": {
        "colab": {
          "base_uri": "https://localhost:8080/"
        },
        "id": "xAANKnLWN33I",
        "outputId": "a8a5cb65-ec6d-449c-97d9-6e5a4c859034"
      },
      "source": [
        "table.show()"
      ],
      "execution_count": 31,
      "outputs": [
        {
          "output_type": "stream",
          "name": "stdout",
          "text": [
            "+-----------------+----------+------------------+-----------+-----------+------------------+\n",
            "|          Age_udf|User_COUNT|       Glucose_AVG|Glucose_MIN|Glucose_Max|           Percent|\n",
            "+-----------------+----------+------------------+-----------+-----------+------------------+\n",
            "|         under 25|       267|110.71910112359551|          0|        199|         34.765625|\n",
            "|between 25 and 35|       231|121.67099567099567|         71|        198|         30.078125|\n",
            "|between 36 and 49|       181|125.74033149171271|          0|        197|23.567708333333332|\n",
            "|          over 50|        89| 139.5505617977528|         57|        197|11.588541666666666|\n",
            "+-----------------+----------+------------------+-----------+-----------+------------------+\n",
            "\n"
          ]
        }
      ]
    },
    {
      "cell_type": "code",
      "metadata": {
        "colab": {
          "base_uri": "https://localhost:8080/",
          "height": 466
        },
        "id": "RKQJgLibN33J",
        "outputId": "39bcbf20-ef75-4ef3-dd6a-abb4e9ea4e1b"
      },
      "source": [
        "# plotando o gráfico de \"pie\"\n",
        "labels = list(table.select('Age_udf').distinct().toPandas()['Age_udf'])\n",
        "sizes =  list(table.select('Percent').distinct().toPandas()['Percent'])\n",
        "\n",
        "colors = ['gold', 'yellowgreen', 'lightcoral','blue', 'lightskyblue','green','red']\n",
        "explode = (0.1, 0.0, 0 ,0.0 ) \n",
        "\n",
        "plt.figure(figsize = (10,8))\n",
        "plt.pie(sizes, explode = explode, labels = labels, colors = colors,\n",
        "        autopct = '%1.1f%%', shadow = True, startangle = 140)\n",
        "\n",
        "plt.axis('equal')\n",
        "plt.show();"
      ],
      "execution_count": 32,
      "outputs": [
        {
          "output_type": "display_data",
          "data": {
            "image/png": "[encoded data removed]",
            "text/plain": [
              "<Figure size 720x576 with 1 Axes>"
            ]
          },
          "metadata": {}
        }
      ]
    },
    {
      "cell_type": "markdown",
      "metadata": {
        "id": "BctUdZN8N33J"
      },
      "source": [
        "**Correlação de Pearson**\n",
        "\n",
        "Podemos usar a biblioteca de estatísticas do PySpark para determinar se há uma alta correlação entre nossos dados. Em primeiro lugar, determinamos as colunas numéricas e fazemos uma lista delas no dataframe \"df_corr\"."
      ]
    },
    {
      "cell_type": "code",
      "metadata": {
        "colab": {
          "base_uri": "https://localhost:8080/",
          "height": 206
        },
        "id": "GZL484JGN33K",
        "outputId": "49c4cbf0-e14b-45df-d935-fd4149d91861"
      },
      "source": [
        "numeric_features = [t[0] for t in df.dtypes if t[1] != 'string']\n",
        "\n",
        "numeric_features_df = df.select(numeric_features)\n",
        "numeric_features_df.toPandas().head()"
      ],
      "execution_count": 33,
      "outputs": [
        {
          "output_type": "execute_result",
          "data": {
            "text/html": [
              "<div>\n",
              "<style scoped>\n",
              "    .dataframe tbody tr th:only-of-type {\n",
              "        vertical-align: middle;\n",
              "    }\n",
              "\n",
              "    .dataframe tbody tr th {\n",
              "        vertical-align: top;\n",
              "    }\n",
              "\n",
              "    .dataframe thead th {\n",
              "        text-align: right;\n",
              "    }\n",
              "</style>\n",
              "<table border=\"1\" class=\"dataframe\">\n",
              "  <thead>\n",
              "    <tr style=\"text-align: right;\">\n",
              "      <th></th>\n",
              "      <th>Pregnancies</th>\n",
              "      <th>Glucose</th>\n",
              "      <th>BloodPressure</th>\n",
              "      <th>SkinThickness</th>\n",
              "      <th>Insulin</th>\n",
              "      <th>BMI</th>\n",
              "      <th>DiabetesPedigreeFunction</th>\n",
              "      <th>Age</th>\n",
              "    </tr>\n",
              "  </thead>\n",
              "  <tbody>\n",
              "    <tr>\n",
              "      <th>0</th>\n",
              "      <td>6</td>\n",
              "      <td>148</td>\n",
              "      <td>72</td>\n",
              "      <td>35</td>\n",
              "      <td>0</td>\n",
              "      <td>33.6</td>\n",
              "      <td>0.627</td>\n",
              "      <td>50</td>\n",
              "    </tr>\n",
              "    <tr>\n",
              "      <th>1</th>\n",
              "      <td>1</td>\n",
              "      <td>85</td>\n",
              "      <td>66</td>\n",
              "      <td>29</td>\n",
              "      <td>0</td>\n",
              "      <td>26.6</td>\n",
              "      <td>0.351</td>\n",
              "      <td>31</td>\n",
              "    </tr>\n",
              "    <tr>\n",
              "      <th>2</th>\n",
              "      <td>8</td>\n",
              "      <td>183</td>\n",
              "      <td>64</td>\n",
              "      <td>0</td>\n",
              "      <td>0</td>\n",
              "      <td>23.3</td>\n",
              "      <td>0.672</td>\n",
              "      <td>32</td>\n",
              "    </tr>\n",
              "    <tr>\n",
              "      <th>3</th>\n",
              "      <td>1</td>\n",
              "      <td>89</td>\n",
              "      <td>66</td>\n",
              "      <td>23</td>\n",
              "      <td>94</td>\n",
              "      <td>28.1</td>\n",
              "      <td>0.167</td>\n",
              "      <td>21</td>\n",
              "    </tr>\n",
              "    <tr>\n",
              "      <th>4</th>\n",
              "      <td>0</td>\n",
              "      <td>137</td>\n",
              "      <td>40</td>\n",
              "      <td>35</td>\n",
              "      <td>168</td>\n",
              "      <td>43.1</td>\n",
              "      <td>2.288</td>\n",
              "      <td>33</td>\n",
              "    </tr>\n",
              "  </tbody>\n",
              "</table>\n",
              "</div>"
            ],
            "text/plain": [
              "   Pregnancies  Glucose  BloodPressure  ...   BMI  DiabetesPedigreeFunction  Age\n",
              "0            6      148             72  ...  33.6                     0.627   50\n",
              "1            1       85             66  ...  26.6                     0.351   31\n",
              "2            8      183             64  ...  23.3                     0.672   32\n",
              "3            1       89             66  ...  28.1                     0.167   21\n",
              "4            0      137             40  ...  43.1                     2.288   33\n",
              "\n",
              "[5 rows x 8 columns]"
            ]
          },
          "metadata": {},
          "execution_count": 33
        }
      ]
    },
    {
      "cell_type": "code",
      "metadata": {
        "id": "LlrqqkBQ6Vct"
      },
      "source": [
        "from pyspark.mllib.stat import Statistics\n",
        "import pandas as pd"
      ],
      "execution_count": 34,
      "outputs": []
    },
    {
      "cell_type": "code",
      "metadata": {
        "colab": {
          "base_uri": "https://localhost:8080/",
          "height": 300
        },
        "id": "gv2HyC9kN33K",
        "outputId": "cf231288-d1d7-4bdb-b2f0-c89169393826"
      },
      "source": [
        "col_names = numeric_features_df.columns\n",
        "features = numeric_features_df.rdd.map(lambda row: row[0:])\n",
        "\n",
        "corr_mat  =Statistics.corr(features, method = 'pearson')\n",
        "corr_df = pd.DataFrame(corr_mat)\n",
        "corr_df.index, corr_df.columns = col_names, col_names\n",
        "\n",
        "corr_df"
      ],
      "execution_count": 35,
      "outputs": [
        {
          "output_type": "execute_result",
          "data": {
            "text/html": [
              "<div>\n",
              "<style scoped>\n",
              "    .dataframe tbody tr th:only-of-type {\n",
              "        vertical-align: middle;\n",
              "    }\n",
              "\n",
              "    .dataframe tbody tr th {\n",
              "        vertical-align: top;\n",
              "    }\n",
              "\n",
              "    .dataframe thead th {\n",
              "        text-align: right;\n",
              "    }\n",
              "</style>\n",
              "<table border=\"1\" class=\"dataframe\">\n",
              "  <thead>\n",
              "    <tr style=\"text-align: right;\">\n",
              "      <th></th>\n",
              "      <th>Pregnancies</th>\n",
              "      <th>Glucose</th>\n",
              "      <th>BloodPressure</th>\n",
              "      <th>SkinThickness</th>\n",
              "      <th>Insulin</th>\n",
              "      <th>BMI</th>\n",
              "      <th>DiabetesPedigreeFunction</th>\n",
              "      <th>Age</th>\n",
              "    </tr>\n",
              "  </thead>\n",
              "  <tbody>\n",
              "    <tr>\n",
              "      <th>Pregnancies</th>\n",
              "      <td>1.000000</td>\n",
              "      <td>0.129459</td>\n",
              "      <td>0.141282</td>\n",
              "      <td>-0.081672</td>\n",
              "      <td>-0.073535</td>\n",
              "      <td>0.017683</td>\n",
              "      <td>-0.033523</td>\n",
              "      <td>0.544341</td>\n",
              "    </tr>\n",
              "    <tr>\n",
              "      <th>Glucose</th>\n",
              "      <td>0.129459</td>\n",
              "      <td>1.000000</td>\n",
              "      <td>0.152590</td>\n",
              "      <td>0.057328</td>\n",
              "      <td>0.331357</td>\n",
              "      <td>0.221071</td>\n",
              "      <td>0.137337</td>\n",
              "      <td>0.263514</td>\n",
              "    </tr>\n",
              "    <tr>\n",
              "      <th>BloodPressure</th>\n",
              "      <td>0.141282</td>\n",
              "      <td>0.152590</td>\n",
              "      <td>1.000000</td>\n",
              "      <td>0.207371</td>\n",
              "      <td>0.088933</td>\n",
              "      <td>0.281805</td>\n",
              "      <td>0.041265</td>\n",
              "      <td>0.239528</td>\n",
              "    </tr>\n",
              "    <tr>\n",
              "      <th>SkinThickness</th>\n",
              "      <td>-0.081672</td>\n",
              "      <td>0.057328</td>\n",
              "      <td>0.207371</td>\n",
              "      <td>1.000000</td>\n",
              "      <td>0.436783</td>\n",
              "      <td>0.392573</td>\n",
              "      <td>0.183928</td>\n",
              "      <td>-0.113970</td>\n",
              "    </tr>\n",
              "    <tr>\n",
              "      <th>Insulin</th>\n",
              "      <td>-0.073535</td>\n",
              "      <td>0.331357</td>\n",
              "      <td>0.088933</td>\n",
              "      <td>0.436783</td>\n",
              "      <td>1.000000</td>\n",
              "      <td>0.197859</td>\n",
              "      <td>0.185071</td>\n",
              "      <td>-0.042163</td>\n",
              "    </tr>\n",
              "    <tr>\n",
              "      <th>BMI</th>\n",
              "      <td>0.017683</td>\n",
              "      <td>0.221071</td>\n",
              "      <td>0.281805</td>\n",
              "      <td>0.392573</td>\n",
              "      <td>0.197859</td>\n",
              "      <td>1.000000</td>\n",
              "      <td>0.140647</td>\n",
              "      <td>0.036242</td>\n",
              "    </tr>\n",
              "    <tr>\n",
              "      <th>DiabetesPedigreeFunction</th>\n",
              "      <td>-0.033523</td>\n",
              "      <td>0.137337</td>\n",
              "      <td>0.041265</td>\n",
              "      <td>0.183928</td>\n",
              "      <td>0.185071</td>\n",
              "      <td>0.140647</td>\n",
              "      <td>1.000000</td>\n",
              "      <td>0.033561</td>\n",
              "    </tr>\n",
              "    <tr>\n",
              "      <th>Age</th>\n",
              "      <td>0.544341</td>\n",
              "      <td>0.263514</td>\n",
              "      <td>0.239528</td>\n",
              "      <td>-0.113970</td>\n",
              "      <td>-0.042163</td>\n",
              "      <td>0.036242</td>\n",
              "      <td>0.033561</td>\n",
              "      <td>1.000000</td>\n",
              "    </tr>\n",
              "  </tbody>\n",
              "</table>\n",
              "</div>"
            ],
            "text/plain": [
              "                          Pregnancies  ...       Age\n",
              "Pregnancies                  1.000000  ...  0.544341\n",
              "Glucose                      0.129459  ...  0.263514\n",
              "BloodPressure                0.141282  ...  0.239528\n",
              "SkinThickness               -0.081672  ... -0.113970\n",
              "Insulin                     -0.073535  ... -0.042163\n",
              "BMI                          0.017683  ...  0.036242\n",
              "DiabetesPedigreeFunction    -0.033523  ...  0.033561\n",
              "Age                          0.544341  ...  1.000000\n",
              "\n",
              "[8 rows x 8 columns]"
            ]
          },
          "metadata": {},
          "execution_count": 35
        }
      ]
    },
    {
      "cell_type": "markdown",
      "metadata": {
        "id": "aS4wAbrY6g2V"
      },
      "source": [
        "> Utitizando a _correlaço de Pearson_ entre as variáveis numéricas. Podemos ver, que a correlação mais alta é `~0,44`, entre **Insulina e Espessura da Pele**. É óbvio que não existem variáveis ​​numéricas altamente correlacionadas. \n",
        "\n",
        "Porém, iremos manter todos os atributos para aplicação do modelo."
      ]
    },
    {
      "cell_type": "code",
      "metadata": {
        "collapsed": true,
        "id": "VqxSSo2EN33K"
      },
      "source": [
        "df = df.drop('Age')"
      ],
      "execution_count": 36,
      "outputs": []
    },
    {
      "cell_type": "code",
      "metadata": {
        "colab": {
          "base_uri": "https://localhost:8080/"
        },
        "id": "C6B82NZQN33K",
        "outputId": "88070ff8-88b7-41eb-e3bc-c200e9bac052"
      },
      "source": [
        "df.show(4)"
      ],
      "execution_count": 37,
      "outputs": [
        {
          "output_type": "stream",
          "name": "stdout",
          "text": [
            "+-----------+-------+-------------+-------------+-------+----+------------------------+--------+-----------------+\n",
            "|Pregnancies|Glucose|BloodPressure|SkinThickness|Insulin| BMI|DiabetesPedigreeFunction|Diabetes|          Age_udf|\n",
            "+-----------+-------+-------------+-------------+-------+----+------------------------+--------+-----------------+\n",
            "|          6|    148|           72|           35|      0|33.6|                   0.627|     yes|          over 50|\n",
            "|          1|     85|           66|           29|      0|26.6|                   0.351|      No|between 25 and 35|\n",
            "|          8|    183|           64|            0|      0|23.3|                   0.672|     yes|between 25 and 35|\n",
            "|          1|     89|           66|           23|     94|28.1|                   0.167|      No|         under 25|\n",
            "+-----------+-------+-------------+-------------+-------+----+------------------------+--------+-----------------+\n",
            "only showing top 4 rows\n",
            "\n"
          ]
        }
      ]
    },
    {
      "cell_type": "markdown",
      "metadata": {
        "id": "ILIDzm5xN33K"
      },
      "source": [
        "## **Preparando os dados para modelagem**\n",
        "\n",
        "Em primeiro lugar, vamos aplicar 5 transformadores/estimadores importantes da biblioteca `pyspark.ml` antes de começar a construir o modelo. São eles:\n",
        "\n",
        "- StringIndexer\n",
        "- OneHotEncoderEstimator\n",
        "- VectorAssembler\n",
        "- LabelIndexer\n",
        "- StandardScaler\n",
        "\n",
        "Após aplicá-los, os dados estarão prontos para a construção de um modelo."
      ]
    },
    {
      "cell_type": "code",
      "metadata": {
        "collapsed": true,
        "id": "QCJFwYsNN33L"
      },
      "source": [
        "df2 = df\n",
        "df3 = df"
      ],
      "execution_count": 38,
      "outputs": []
    },
    {
      "cell_type": "markdown",
      "metadata": {
        "id": "-Pz1a0iW-ko8"
      },
      "source": [
        "### **1º método**"
      ]
    },
    {
      "cell_type": "markdown",
      "metadata": {
        "id": "59FgM-zXN33L"
      },
      "source": [
        "**StringIndexer**\n",
        "\n",
        "_StringIndexer_ converte uma única coluna em uma coluna de índice. StringIndexer simplesmente substitui cada categoria por um número. Os valores mais frequentes obtêm o primeiro valor de índice (0.0). "
      ]
    },
    {
      "cell_type": "code",
      "metadata": {
        "id": "SVR782Qf7LTE"
      },
      "source": [
        "from pyspark.ml.feature import StringIndexer"
      ],
      "execution_count": 39,
      "outputs": []
    },
    {
      "cell_type": "code",
      "metadata": {
        "colab": {
          "base_uri": "https://localhost:8080/",
          "height": 363
        },
        "id": "d89tZlqQN33L",
        "outputId": "4d48a11c-bf38-44dc-969c-699848c2aaa2"
      },
      "source": [
        "stringIndexer = StringIndexer()\\\n",
        "    .setInputCol ('Age_udf')\\\n",
        "    .setOutputCol ('Age_udfIdx')\n",
        "\n",
        "Age_udfIndex_model = stringIndexer.fit(df2)\n",
        "\n",
        "Age_udfIndex_df = Age_udfIndex_model.transform(df2)\n",
        "Age_udfIndex_df.toPandas().head(10)"
      ],
      "execution_count": 40,
      "outputs": [
        {
          "output_type": "execute_result",
          "data": {
            "text/html": [
              "<div>\n",
              "<style scoped>\n",
              "    .dataframe tbody tr th:only-of-type {\n",
              "        vertical-align: middle;\n",
              "    }\n",
              "\n",
              "    .dataframe tbody tr th {\n",
              "        vertical-align: top;\n",
              "    }\n",
              "\n",
              "    .dataframe thead th {\n",
              "        text-align: right;\n",
              "    }\n",
              "</style>\n",
              "<table border=\"1\" class=\"dataframe\">\n",
              "  <thead>\n",
              "    <tr style=\"text-align: right;\">\n",
              "      <th></th>\n",
              "      <th>Pregnancies</th>\n",
              "      <th>Glucose</th>\n",
              "      <th>BloodPressure</th>\n",
              "      <th>SkinThickness</th>\n",
              "      <th>Insulin</th>\n",
              "      <th>BMI</th>\n",
              "      <th>DiabetesPedigreeFunction</th>\n",
              "      <th>Diabetes</th>\n",
              "      <th>Age_udf</th>\n",
              "      <th>Age_udfIdx</th>\n",
              "    </tr>\n",
              "  </thead>\n",
              "  <tbody>\n",
              "    <tr>\n",
              "      <th>0</th>\n",
              "      <td>6</td>\n",
              "      <td>148</td>\n",
              "      <td>72</td>\n",
              "      <td>35</td>\n",
              "      <td>0</td>\n",
              "      <td>33.6</td>\n",
              "      <td>0.627</td>\n",
              "      <td>yes</td>\n",
              "      <td>over 50</td>\n",
              "      <td>3.0</td>\n",
              "    </tr>\n",
              "    <tr>\n",
              "      <th>1</th>\n",
              "      <td>1</td>\n",
              "      <td>85</td>\n",
              "      <td>66</td>\n",
              "      <td>29</td>\n",
              "      <td>0</td>\n",
              "      <td>26.6</td>\n",
              "      <td>0.351</td>\n",
              "      <td>No</td>\n",
              "      <td>between 25 and 35</td>\n",
              "      <td>1.0</td>\n",
              "    </tr>\n",
              "    <tr>\n",
              "      <th>2</th>\n",
              "      <td>8</td>\n",
              "      <td>183</td>\n",
              "      <td>64</td>\n",
              "      <td>0</td>\n",
              "      <td>0</td>\n",
              "      <td>23.3</td>\n",
              "      <td>0.672</td>\n",
              "      <td>yes</td>\n",
              "      <td>between 25 and 35</td>\n",
              "      <td>1.0</td>\n",
              "    </tr>\n",
              "    <tr>\n",
              "      <th>3</th>\n",
              "      <td>1</td>\n",
              "      <td>89</td>\n",
              "      <td>66</td>\n",
              "      <td>23</td>\n",
              "      <td>94</td>\n",
              "      <td>28.1</td>\n",
              "      <td>0.167</td>\n",
              "      <td>No</td>\n",
              "      <td>under 25</td>\n",
              "      <td>0.0</td>\n",
              "    </tr>\n",
              "    <tr>\n",
              "      <th>4</th>\n",
              "      <td>0</td>\n",
              "      <td>137</td>\n",
              "      <td>40</td>\n",
              "      <td>35</td>\n",
              "      <td>168</td>\n",
              "      <td>43.1</td>\n",
              "      <td>2.288</td>\n",
              "      <td>yes</td>\n",
              "      <td>between 25 and 35</td>\n",
              "      <td>1.0</td>\n",
              "    </tr>\n",
              "    <tr>\n",
              "      <th>5</th>\n",
              "      <td>5</td>\n",
              "      <td>116</td>\n",
              "      <td>74</td>\n",
              "      <td>0</td>\n",
              "      <td>0</td>\n",
              "      <td>25.6</td>\n",
              "      <td>0.201</td>\n",
              "      <td>No</td>\n",
              "      <td>between 25 and 35</td>\n",
              "      <td>1.0</td>\n",
              "    </tr>\n",
              "    <tr>\n",
              "      <th>6</th>\n",
              "      <td>3</td>\n",
              "      <td>78</td>\n",
              "      <td>50</td>\n",
              "      <td>32</td>\n",
              "      <td>88</td>\n",
              "      <td>31.0</td>\n",
              "      <td>0.248</td>\n",
              "      <td>yes</td>\n",
              "      <td>between 25 and 35</td>\n",
              "      <td>1.0</td>\n",
              "    </tr>\n",
              "    <tr>\n",
              "      <th>7</th>\n",
              "      <td>10</td>\n",
              "      <td>115</td>\n",
              "      <td>0</td>\n",
              "      <td>0</td>\n",
              "      <td>0</td>\n",
              "      <td>35.3</td>\n",
              "      <td>0.134</td>\n",
              "      <td>No</td>\n",
              "      <td>between 25 and 35</td>\n",
              "      <td>1.0</td>\n",
              "    </tr>\n",
              "    <tr>\n",
              "      <th>8</th>\n",
              "      <td>2</td>\n",
              "      <td>197</td>\n",
              "      <td>70</td>\n",
              "      <td>45</td>\n",
              "      <td>543</td>\n",
              "      <td>30.5</td>\n",
              "      <td>0.158</td>\n",
              "      <td>yes</td>\n",
              "      <td>over 50</td>\n",
              "      <td>3.0</td>\n",
              "    </tr>\n",
              "    <tr>\n",
              "      <th>9</th>\n",
              "      <td>8</td>\n",
              "      <td>125</td>\n",
              "      <td>96</td>\n",
              "      <td>0</td>\n",
              "      <td>0</td>\n",
              "      <td>0.0</td>\n",
              "      <td>0.232</td>\n",
              "      <td>yes</td>\n",
              "      <td>over 50</td>\n",
              "      <td>3.0</td>\n",
              "    </tr>\n",
              "  </tbody>\n",
              "</table>\n",
              "</div>"
            ],
            "text/plain": [
              "   Pregnancies  Glucose  BloodPressure  ...  Diabetes            Age_udf  Age_udfIdx\n",
              "0            6      148             72  ...       yes            over 50         3.0\n",
              "1            1       85             66  ...        No  between 25 and 35         1.0\n",
              "2            8      183             64  ...       yes  between 25 and 35         1.0\n",
              "3            1       89             66  ...        No           under 25         0.0\n",
              "4            0      137             40  ...       yes  between 25 and 35         1.0\n",
              "5            5      116             74  ...        No  between 25 and 35         1.0\n",
              "6            3       78             50  ...       yes  between 25 and 35         1.0\n",
              "7           10      115              0  ...        No  between 25 and 35         1.0\n",
              "8            2      197             70  ...       yes            over 50         3.0\n",
              "9            8      125             96  ...       yes            over 50         3.0\n",
              "\n",
              "[10 rows x 10 columns]"
            ]
          },
          "metadata": {},
          "execution_count": 40
        }
      ]
    },
    {
      "cell_type": "markdown",
      "metadata": {
        "id": "AqF5TiNH7T1E"
      },
      "source": [
        "> Como podemos ver, “under 25” assumiu o valor de índice de \"0.0\". O grupo “over 50” tem a menor população em nosso conjunto de dados e, por isso recebe o maior valor de índice, nesse caso \"3.0\"."
      ]
    },
    {
      "cell_type": "markdown",
      "metadata": {
        "id": "4QSxq21ZN33L"
      },
      "source": [
        "**OneHotEncoderEstimator**\n",
        "\n",
        "Usamos “OneHotEncoderEstimator” para converter variáveis ​​categóricas em `SparseVectors` binários.\n",
        "Com OneHotEncoder, criamos uma variável fictícia para cada valor em colunas categóricas e atribuímos a ela um valor 1 ou 0. Este método produz resultados diferentes com pandas. Se fizermos essa transformação no Pandas, 4 novas colunas serão produzidas para quatro grupos. No entanto, 3 colunas são produzidas no Spark. Se nossa faixa etária for \"under 50+\", _Age_encoded_ será (0.0,0.0,0.0)"
      ]
    },
    {
      "cell_type": "code",
      "metadata": {
        "id": "8ZWwu0JR8gkE"
      },
      "source": [
        "from pyspark.ml.feature import OneHotEncoder"
      ],
      "execution_count": 41,
      "outputs": []
    },
    {
      "cell_type": "code",
      "metadata": {
        "colab": {
          "base_uri": "https://localhost:8080/",
          "height": 206
        },
        "id": "6LRN9hIpN33L",
        "outputId": "2786fa08-0ec8-432c-ffe0-113f8ab4457b"
      },
      "source": [
        "encoder = OneHotEncoder()\\\n",
        "    .setInputCols (['Age_udfIdx'])\\\n",
        "    .setOutputCols (['Age_encoded'])\n",
        "\n",
        "encoder_model = encoder.fit(Age_udfIndex_df)\n",
        "\n",
        "encoder_df = encoder_model.transform(Age_udfIndex_df)\n",
        "encoder_df.toPandas().head()"
      ],
      "execution_count": 42,
      "outputs": [
        {
          "output_type": "execute_result",
          "data": {
            "text/html": [
              "<div>\n",
              "<style scoped>\n",
              "    .dataframe tbody tr th:only-of-type {\n",
              "        vertical-align: middle;\n",
              "    }\n",
              "\n",
              "    .dataframe tbody tr th {\n",
              "        vertical-align: top;\n",
              "    }\n",
              "\n",
              "    .dataframe thead th {\n",
              "        text-align: right;\n",
              "    }\n",
              "</style>\n",
              "<table border=\"1\" class=\"dataframe\">\n",
              "  <thead>\n",
              "    <tr style=\"text-align: right;\">\n",
              "      <th></th>\n",
              "      <th>Pregnancies</th>\n",
              "      <th>Glucose</th>\n",
              "      <th>BloodPressure</th>\n",
              "      <th>SkinThickness</th>\n",
              "      <th>Insulin</th>\n",
              "      <th>BMI</th>\n",
              "      <th>DiabetesPedigreeFunction</th>\n",
              "      <th>Diabetes</th>\n",
              "      <th>Age_udf</th>\n",
              "      <th>Age_udfIdx</th>\n",
              "      <th>Age_encoded</th>\n",
              "    </tr>\n",
              "  </thead>\n",
              "  <tbody>\n",
              "    <tr>\n",
              "      <th>0</th>\n",
              "      <td>6</td>\n",
              "      <td>148</td>\n",
              "      <td>72</td>\n",
              "      <td>35</td>\n",
              "      <td>0</td>\n",
              "      <td>33.6</td>\n",
              "      <td>0.627</td>\n",
              "      <td>yes</td>\n",
              "      <td>over 50</td>\n",
              "      <td>3.0</td>\n",
              "      <td>(0.0, 0.0, 0.0)</td>\n",
              "    </tr>\n",
              "    <tr>\n",
              "      <th>1</th>\n",
              "      <td>1</td>\n",
              "      <td>85</td>\n",
              "      <td>66</td>\n",
              "      <td>29</td>\n",
              "      <td>0</td>\n",
              "      <td>26.6</td>\n",
              "      <td>0.351</td>\n",
              "      <td>No</td>\n",
              "      <td>between 25 and 35</td>\n",
              "      <td>1.0</td>\n",
              "      <td>(0.0, 1.0, 0.0)</td>\n",
              "    </tr>\n",
              "    <tr>\n",
              "      <th>2</th>\n",
              "      <td>8</td>\n",
              "      <td>183</td>\n",
              "      <td>64</td>\n",
              "      <td>0</td>\n",
              "      <td>0</td>\n",
              "      <td>23.3</td>\n",
              "      <td>0.672</td>\n",
              "      <td>yes</td>\n",
              "      <td>between 25 and 35</td>\n",
              "      <td>1.0</td>\n",
              "      <td>(0.0, 1.0, 0.0)</td>\n",
              "    </tr>\n",
              "    <tr>\n",
              "      <th>3</th>\n",
              "      <td>1</td>\n",
              "      <td>89</td>\n",
              "      <td>66</td>\n",
              "      <td>23</td>\n",
              "      <td>94</td>\n",
              "      <td>28.1</td>\n",
              "      <td>0.167</td>\n",
              "      <td>No</td>\n",
              "      <td>under 25</td>\n",
              "      <td>0.0</td>\n",
              "      <td>(1.0, 0.0, 0.0)</td>\n",
              "    </tr>\n",
              "    <tr>\n",
              "      <th>4</th>\n",
              "      <td>0</td>\n",
              "      <td>137</td>\n",
              "      <td>40</td>\n",
              "      <td>35</td>\n",
              "      <td>168</td>\n",
              "      <td>43.1</td>\n",
              "      <td>2.288</td>\n",
              "      <td>yes</td>\n",
              "      <td>between 25 and 35</td>\n",
              "      <td>1.0</td>\n",
              "      <td>(0.0, 1.0, 0.0)</td>\n",
              "    </tr>\n",
              "  </tbody>\n",
              "</table>\n",
              "</div>"
            ],
            "text/plain": [
              "   Pregnancies  Glucose  ...  Age_udfIdx      Age_encoded\n",
              "0            6      148  ...         3.0  (0.0, 0.0, 0.0)\n",
              "1            1       85  ...         1.0  (0.0, 1.0, 0.0)\n",
              "2            8      183  ...         1.0  (0.0, 1.0, 0.0)\n",
              "3            1       89  ...         0.0  (1.0, 0.0, 0.0)\n",
              "4            0      137  ...         1.0  (0.0, 1.0, 0.0)\n",
              "\n",
              "[5 rows x 11 columns]"
            ]
          },
          "metadata": {},
          "execution_count": 42
        }
      ]
    },
    {
      "cell_type": "markdown",
      "metadata": {
        "id": "yXfEiO9NN33M"
      },
      "source": [
        "**VectorAssembler**\n",
        "\n",
        "Transforme todos os recursos em um vetor usando VectorAssembler."
      ]
    },
    {
      "cell_type": "code",
      "metadata": {
        "collapsed": true,
        "id": "qVDDblj2N33M"
      },
      "source": [
        "import pandas as pd\n",
        "\n",
        "pd.set_option('display.max_colwidth', 80)\n",
        "pd.set_option('max_columns', 12)"
      ],
      "execution_count": 43,
      "outputs": []
    },
    {
      "cell_type": "code",
      "metadata": {
        "id": "9ybnYM1f8slM"
      },
      "source": [
        "from pyspark.ml.feature import VectorAssembler"
      ],
      "execution_count": 44,
      "outputs": []
    },
    {
      "cell_type": "code",
      "metadata": {
        "colab": {
          "base_uri": "https://localhost:8080/",
          "height": 293
        },
        "id": "QqNdVvWvN33M",
        "outputId": "382918ad-ed46-408c-99af-c5f38788bd2e"
      },
      "source": [
        "assembler = VectorAssembler()\\\n",
        "    .setInputCols (['Age_encoded', 'Pregnancies', 'Glucose',\n",
        "                    'BloodPressure', 'SkinThickness',\\\n",
        "                    'Insulin', 'BMI', 'DiabetesPedigreeFunction'])\\\n",
        "    .setOutputCol ('vectorized_feats')\n",
        "        \n",
        "assembler_df = assembler.transform(encoder_df)\n",
        "\n",
        "assembler_df.toPandas().head()"
      ],
      "execution_count": 45,
      "outputs": [
        {
          "output_type": "execute_result",
          "data": {
            "text/html": [
              "<div>\n",
              "<style scoped>\n",
              "    .dataframe tbody tr th:only-of-type {\n",
              "        vertical-align: middle;\n",
              "    }\n",
              "\n",
              "    .dataframe tbody tr th {\n",
              "        vertical-align: top;\n",
              "    }\n",
              "\n",
              "    .dataframe thead th {\n",
              "        text-align: right;\n",
              "    }\n",
              "</style>\n",
              "<table border=\"1\" class=\"dataframe\">\n",
              "  <thead>\n",
              "    <tr style=\"text-align: right;\">\n",
              "      <th></th>\n",
              "      <th>Pregnancies</th>\n",
              "      <th>Glucose</th>\n",
              "      <th>BloodPressure</th>\n",
              "      <th>SkinThickness</th>\n",
              "      <th>Insulin</th>\n",
              "      <th>BMI</th>\n",
              "      <th>DiabetesPedigreeFunction</th>\n",
              "      <th>Diabetes</th>\n",
              "      <th>Age_udf</th>\n",
              "      <th>Age_udfIdx</th>\n",
              "      <th>Age_encoded</th>\n",
              "      <th>vectorized_feats</th>\n",
              "    </tr>\n",
              "  </thead>\n",
              "  <tbody>\n",
              "    <tr>\n",
              "      <th>0</th>\n",
              "      <td>6</td>\n",
              "      <td>148</td>\n",
              "      <td>72</td>\n",
              "      <td>35</td>\n",
              "      <td>0</td>\n",
              "      <td>33.6</td>\n",
              "      <td>0.627</td>\n",
              "      <td>yes</td>\n",
              "      <td>over 50</td>\n",
              "      <td>3.0</td>\n",
              "      <td>(0.0, 0.0, 0.0)</td>\n",
              "      <td>[0.0, 0.0, 0.0, 6.0, 148.0, 72.0, 35.0, 0.0, 33.6, 0.627]</td>\n",
              "    </tr>\n",
              "    <tr>\n",
              "      <th>1</th>\n",
              "      <td>1</td>\n",
              "      <td>85</td>\n",
              "      <td>66</td>\n",
              "      <td>29</td>\n",
              "      <td>0</td>\n",
              "      <td>26.6</td>\n",
              "      <td>0.351</td>\n",
              "      <td>No</td>\n",
              "      <td>between 25 and 35</td>\n",
              "      <td>1.0</td>\n",
              "      <td>(0.0, 1.0, 0.0)</td>\n",
              "      <td>[0.0, 1.0, 0.0, 1.0, 85.0, 66.0, 29.0, 0.0, 26.6, 0.351]</td>\n",
              "    </tr>\n",
              "    <tr>\n",
              "      <th>2</th>\n",
              "      <td>8</td>\n",
              "      <td>183</td>\n",
              "      <td>64</td>\n",
              "      <td>0</td>\n",
              "      <td>0</td>\n",
              "      <td>23.3</td>\n",
              "      <td>0.672</td>\n",
              "      <td>yes</td>\n",
              "      <td>between 25 and 35</td>\n",
              "      <td>1.0</td>\n",
              "      <td>(0.0, 1.0, 0.0)</td>\n",
              "      <td>[0.0, 1.0, 0.0, 8.0, 183.0, 64.0, 0.0, 0.0, 23.3, 0.672]</td>\n",
              "    </tr>\n",
              "    <tr>\n",
              "      <th>3</th>\n",
              "      <td>1</td>\n",
              "      <td>89</td>\n",
              "      <td>66</td>\n",
              "      <td>23</td>\n",
              "      <td>94</td>\n",
              "      <td>28.1</td>\n",
              "      <td>0.167</td>\n",
              "      <td>No</td>\n",
              "      <td>under 25</td>\n",
              "      <td>0.0</td>\n",
              "      <td>(1.0, 0.0, 0.0)</td>\n",
              "      <td>[1.0, 0.0, 0.0, 1.0, 89.0, 66.0, 23.0, 94.0, 28.1, 0.167]</td>\n",
              "    </tr>\n",
              "    <tr>\n",
              "      <th>4</th>\n",
              "      <td>0</td>\n",
              "      <td>137</td>\n",
              "      <td>40</td>\n",
              "      <td>35</td>\n",
              "      <td>168</td>\n",
              "      <td>43.1</td>\n",
              "      <td>2.288</td>\n",
              "      <td>yes</td>\n",
              "      <td>between 25 and 35</td>\n",
              "      <td>1.0</td>\n",
              "      <td>(0.0, 1.0, 0.0)</td>\n",
              "      <td>[0.0, 1.0, 0.0, 0.0, 137.0, 40.0, 35.0, 168.0, 43.1, 2.288]</td>\n",
              "    </tr>\n",
              "  </tbody>\n",
              "</table>\n",
              "</div>"
            ],
            "text/plain": [
              "   Pregnancies  Glucose  BloodPressure  SkinThickness  Insulin   BMI  \\\n",
              "0            6      148             72             35        0  33.6   \n",
              "1            1       85             66             29        0  26.6   \n",
              "2            8      183             64              0        0  23.3   \n",
              "3            1       89             66             23       94  28.1   \n",
              "4            0      137             40             35      168  43.1   \n",
              "\n",
              "   DiabetesPedigreeFunction Diabetes            Age_udf  Age_udfIdx  \\\n",
              "0                     0.627      yes            over 50         3.0   \n",
              "1                     0.351       No  between 25 and 35         1.0   \n",
              "2                     0.672      yes  between 25 and 35         1.0   \n",
              "3                     0.167       No           under 25         0.0   \n",
              "4                     2.288      yes  between 25 and 35         1.0   \n",
              "\n",
              "       Age_encoded  \\\n",
              "0  (0.0, 0.0, 0.0)   \n",
              "1  (0.0, 1.0, 0.0)   \n",
              "2  (0.0, 1.0, 0.0)   \n",
              "3  (1.0, 0.0, 0.0)   \n",
              "4  (0.0, 1.0, 0.0)   \n",
              "\n",
              "                                              vectorized_feats  \n",
              "0    [0.0, 0.0, 0.0, 6.0, 148.0, 72.0, 35.0, 0.0, 33.6, 0.627]  \n",
              "1     [0.0, 1.0, 0.0, 1.0, 85.0, 66.0, 29.0, 0.0, 26.6, 0.351]  \n",
              "2     [0.0, 1.0, 0.0, 8.0, 183.0, 64.0, 0.0, 0.0, 23.3, 0.672]  \n",
              "3    [1.0, 0.0, 0.0, 1.0, 89.0, 66.0, 23.0, 94.0, 28.1, 0.167]  \n",
              "4  [0.0, 1.0, 0.0, 0.0, 137.0, 40.0, 35.0, 168.0, 43.1, 2.288]  "
            ]
          },
          "metadata": {},
          "execution_count": 45
        }
      ]
    },
    {
      "cell_type": "markdown",
      "metadata": {
        "id": "Uu6Fpk3rN33M"
      },
      "source": [
        "**LabelIndexer**\n",
        "\n",
        "Convertendo o rótulo em índices de rótulo usando StringIndexer da coluna alvo, `Diabetes`.\n",
        "- “No” será atribuído com o valor de “0.0” e, \n",
        "- “yes” com o valor de “1.0”."
      ]
    },
    {
      "cell_type": "code",
      "metadata": {
        "colab": {
          "base_uri": "https://localhost:8080/",
          "height": 206
        },
        "id": "qN9aF3GZN33M",
        "outputId": "63cb62c3-4119-4684-8345-cb60e65e1904"
      },
      "source": [
        "label_indexer = StringIndexer()\\\n",
        "    .setInputCol ('Diabetes')\\\n",
        "    .setOutputCol ('label')\n",
        "\n",
        "label_indexer_model = label_indexer.fit(assembler_df)\n",
        "label_indexer_df = label_indexer_model.transform(assembler_df)\n",
        "\n",
        "label_indexer_df.select('Diabetes', 'label').toPandas().head()"
      ],
      "execution_count": 46,
      "outputs": [
        {
          "output_type": "execute_result",
          "data": {
            "text/html": [
              "<div>\n",
              "<style scoped>\n",
              "    .dataframe tbody tr th:only-of-type {\n",
              "        vertical-align: middle;\n",
              "    }\n",
              "\n",
              "    .dataframe tbody tr th {\n",
              "        vertical-align: top;\n",
              "    }\n",
              "\n",
              "    .dataframe thead th {\n",
              "        text-align: right;\n",
              "    }\n",
              "</style>\n",
              "<table border=\"1\" class=\"dataframe\">\n",
              "  <thead>\n",
              "    <tr style=\"text-align: right;\">\n",
              "      <th></th>\n",
              "      <th>Diabetes</th>\n",
              "      <th>label</th>\n",
              "    </tr>\n",
              "  </thead>\n",
              "  <tbody>\n",
              "    <tr>\n",
              "      <th>0</th>\n",
              "      <td>yes</td>\n",
              "      <td>1.0</td>\n",
              "    </tr>\n",
              "    <tr>\n",
              "      <th>1</th>\n",
              "      <td>No</td>\n",
              "      <td>0.0</td>\n",
              "    </tr>\n",
              "    <tr>\n",
              "      <th>2</th>\n",
              "      <td>yes</td>\n",
              "      <td>1.0</td>\n",
              "    </tr>\n",
              "    <tr>\n",
              "      <th>3</th>\n",
              "      <td>No</td>\n",
              "      <td>0.0</td>\n",
              "    </tr>\n",
              "    <tr>\n",
              "      <th>4</th>\n",
              "      <td>yes</td>\n",
              "      <td>1.0</td>\n",
              "    </tr>\n",
              "  </tbody>\n",
              "</table>\n",
              "</div>"
            ],
            "text/plain": [
              "  Diabetes  label\n",
              "0      yes    1.0\n",
              "1       No    0.0\n",
              "2      yes    1.0\n",
              "3       No    0.0\n",
              "4      yes    1.0"
            ]
          },
          "metadata": {},
          "execution_count": 46
        }
      ]
    },
    {
      "cell_type": "markdown",
      "metadata": {
        "id": "XLOXo_whN33M"
      },
      "source": [
        "**StandardScaler**\n",
        "\n",
        "A padronização de um conjunto de dados é um requisito comum para muitos estimadores de aprendizado de máquina. <br>Quando não dada devida atenção para essa situação os modelos podem se comportar mal se os recursos individuais não se parecerem com dados mais ou menos normalmente distribuídos (por exemplo, Gaussiano com média 0 e variância unitária).<br>\n",
        "O StandardScaler padroniza os recursos removendo a média e escalando para a variação da unidade."
      ]
    },
    {
      "cell_type": "code",
      "metadata": {
        "id": "p_WIg36--FGL"
      },
      "source": [
        "from pyspark.ml.feature import StandardScaler"
      ],
      "execution_count": 47,
      "outputs": []
    },
    {
      "cell_type": "code",
      "metadata": {
        "colab": {
          "base_uri": "https://localhost:8080/",
          "height": 206
        },
        "id": "zR6eceJNN33M",
        "outputId": "d5016f1d-2b6c-4c23-d3c9-be6db88ebea1"
      },
      "source": [
        "scaler = StandardScaler()\\\n",
        "    .setInputCol ('vectorized_feats')\\\n",
        "    .setOutputCol ('features')\n",
        "        \n",
        "scaler_model = scaler.fit(label_indexer_df)\n",
        "scaler_df = scaler_model.transform(label_indexer_df)\n",
        "\n",
        "pd.set_option('display.max_colwidth', 40)\n",
        "scaler_df.select('vectorized_feats', 'features').toPandas().head(5)"
      ],
      "execution_count": 48,
      "outputs": [
        {
          "output_type": "execute_result",
          "data": {
            "text/html": [
              "<div>\n",
              "<style scoped>\n",
              "    .dataframe tbody tr th:only-of-type {\n",
              "        vertical-align: middle;\n",
              "    }\n",
              "\n",
              "    .dataframe tbody tr th {\n",
              "        vertical-align: top;\n",
              "    }\n",
              "\n",
              "    .dataframe thead th {\n",
              "        text-align: right;\n",
              "    }\n",
              "</style>\n",
              "<table border=\"1\" class=\"dataframe\">\n",
              "  <thead>\n",
              "    <tr style=\"text-align: right;\">\n",
              "      <th></th>\n",
              "      <th>vectorized_feats</th>\n",
              "      <th>features</th>\n",
              "    </tr>\n",
              "  </thead>\n",
              "  <tbody>\n",
              "    <tr>\n",
              "      <th>0</th>\n",
              "      <td>[0.0, 0.0, 0.0, 6.0, 148.0, 72.0, 35...</td>\n",
              "      <td>[0.0, 0.0, 0.0, 1.7806383732194306, ...</td>\n",
              "    </tr>\n",
              "    <tr>\n",
              "      <th>1</th>\n",
              "      <td>[0.0, 1.0, 0.0, 1.0, 85.0, 66.0, 29....</td>\n",
              "      <td>[0.0, 2.1791401333367157, 0.0, 0.296...</td>\n",
              "    </tr>\n",
              "    <tr>\n",
              "      <th>2</th>\n",
              "      <td>[0.0, 1.0, 0.0, 8.0, 183.0, 64.0, 0....</td>\n",
              "      <td>[0.0, 2.1791401333367157, 0.0, 2.374...</td>\n",
              "    </tr>\n",
              "    <tr>\n",
              "      <th>3</th>\n",
              "      <td>[1.0, 0.0, 0.0, 1.0, 89.0, 66.0, 23....</td>\n",
              "      <td>[2.098474993842542, 0.0, 0.0, 0.2967...</td>\n",
              "    </tr>\n",
              "    <tr>\n",
              "      <th>4</th>\n",
              "      <td>[0.0, 1.0, 0.0, 0.0, 137.0, 40.0, 35...</td>\n",
              "      <td>[0.0, 2.1791401333367157, 0.0, 0.0, ...</td>\n",
              "    </tr>\n",
              "  </tbody>\n",
              "</table>\n",
              "</div>"
            ],
            "text/plain": [
              "                          vectorized_feats  \\\n",
              "0  [0.0, 0.0, 0.0, 6.0, 148.0, 72.0, 35...   \n",
              "1  [0.0, 1.0, 0.0, 1.0, 85.0, 66.0, 29....   \n",
              "2  [0.0, 1.0, 0.0, 8.0, 183.0, 64.0, 0....   \n",
              "3  [1.0, 0.0, 0.0, 1.0, 89.0, 66.0, 23....   \n",
              "4  [0.0, 1.0, 0.0, 0.0, 137.0, 40.0, 35...   \n",
              "\n",
              "                                  features  \n",
              "0  [0.0, 0.0, 0.0, 1.7806383732194306, ...  \n",
              "1  [0.0, 2.1791401333367157, 0.0, 0.296...  \n",
              "2  [0.0, 2.1791401333367157, 0.0, 2.374...  \n",
              "3  [2.098474993842542, 0.0, 0.0, 0.2967...  \n",
              "4  [0.0, 2.1791401333367157, 0.0, 0.0, ...  "
            ]
          },
          "metadata": {},
          "execution_count": 48
        }
      ]
    },
    {
      "cell_type": "markdown",
      "metadata": {
        "id": "zUMHCq1qN33N"
      },
      "source": [
        "### **2º método**"
      ]
    },
    {
      "cell_type": "markdown",
      "metadata": {
        "id": "PeLutbliN33N"
      },
      "source": [
        "**Criando 5 transformadores/estimadores e aplicando todos em um pipeline**"
      ]
    },
    {
      "cell_type": "markdown",
      "metadata": {
        "id": "QWe0PmYC_QYn"
      },
      "source": [
        "**Pipeline de modelo**\n",
        "\n",
        "Usamos pipeline para encadear vários transformadores e estimadores para especificar nosso fluxo de trabalho de aprendizado de máquina. Os estágios de um pipeline são especificados como uma matriz ordenada."
      ]
    },
    {
      "cell_type": "code",
      "metadata": {
        "id": "K3aIWVwk_fqS"
      },
      "source": [
        "from pyspark.ml import Pipeline"
      ],
      "execution_count": 49,
      "outputs": []
    },
    {
      "cell_type": "code",
      "metadata": {
        "id": "Bop1fzJMN33N"
      },
      "source": [
        "pipeline_stages = Pipeline()\\\n",
        "    .setStages([stringIndexer, encoder, assembler, label_indexer, scaler])\n",
        "\n",
        "pipeline_model = pipeline_stages.fit(df3)\n",
        "pipeline_df = pipeline_model.transform(df3)"
      ],
      "execution_count": 50,
      "outputs": []
    },
    {
      "cell_type": "code",
      "metadata": {
        "colab": {
          "base_uri": "https://localhost:8080/",
          "height": 322
        },
        "id": "7ZGylhH7N33N",
        "outputId": "be9e2aab-f71b-4b7a-f7b4-a4a05baf6c1a"
      },
      "source": [
        "pipeline_df.toPandas().head()"
      ],
      "execution_count": 51,
      "outputs": [
        {
          "output_type": "execute_result",
          "data": {
            "text/html": [
              "<div>\n",
              "<style scoped>\n",
              "    .dataframe tbody tr th:only-of-type {\n",
              "        vertical-align: middle;\n",
              "    }\n",
              "\n",
              "    .dataframe tbody tr th {\n",
              "        vertical-align: top;\n",
              "    }\n",
              "\n",
              "    .dataframe thead th {\n",
              "        text-align: right;\n",
              "    }\n",
              "</style>\n",
              "<table border=\"1\" class=\"dataframe\">\n",
              "  <thead>\n",
              "    <tr style=\"text-align: right;\">\n",
              "      <th></th>\n",
              "      <th>Pregnancies</th>\n",
              "      <th>Glucose</th>\n",
              "      <th>BloodPressure</th>\n",
              "      <th>SkinThickness</th>\n",
              "      <th>Insulin</th>\n",
              "      <th>BMI</th>\n",
              "      <th>...</th>\n",
              "      <th>Age_udf</th>\n",
              "      <th>Age_udfIdx</th>\n",
              "      <th>Age_encoded</th>\n",
              "      <th>vectorized_feats</th>\n",
              "      <th>label</th>\n",
              "      <th>features</th>\n",
              "    </tr>\n",
              "  </thead>\n",
              "  <tbody>\n",
              "    <tr>\n",
              "      <th>0</th>\n",
              "      <td>6</td>\n",
              "      <td>148</td>\n",
              "      <td>72</td>\n",
              "      <td>35</td>\n",
              "      <td>0</td>\n",
              "      <td>33.6</td>\n",
              "      <td>...</td>\n",
              "      <td>over 50</td>\n",
              "      <td>3.0</td>\n",
              "      <td>(0.0, 0.0, 0.0)</td>\n",
              "      <td>[0.0, 0.0, 0.0, 6.0, 148.0, 72.0, 35...</td>\n",
              "      <td>1.0</td>\n",
              "      <td>[0.0, 0.0, 0.0, 1.7806383732194306, ...</td>\n",
              "    </tr>\n",
              "    <tr>\n",
              "      <th>1</th>\n",
              "      <td>1</td>\n",
              "      <td>85</td>\n",
              "      <td>66</td>\n",
              "      <td>29</td>\n",
              "      <td>0</td>\n",
              "      <td>26.6</td>\n",
              "      <td>...</td>\n",
              "      <td>between 25 and 35</td>\n",
              "      <td>1.0</td>\n",
              "      <td>(0.0, 1.0, 0.0)</td>\n",
              "      <td>[0.0, 1.0, 0.0, 1.0, 85.0, 66.0, 29....</td>\n",
              "      <td>0.0</td>\n",
              "      <td>[0.0, 2.1791401333367157, 0.0, 0.296...</td>\n",
              "    </tr>\n",
              "    <tr>\n",
              "      <th>2</th>\n",
              "      <td>8</td>\n",
              "      <td>183</td>\n",
              "      <td>64</td>\n",
              "      <td>0</td>\n",
              "      <td>0</td>\n",
              "      <td>23.3</td>\n",
              "      <td>...</td>\n",
              "      <td>between 25 and 35</td>\n",
              "      <td>1.0</td>\n",
              "      <td>(0.0, 1.0, 0.0)</td>\n",
              "      <td>[0.0, 1.0, 0.0, 8.0, 183.0, 64.0, 0....</td>\n",
              "      <td>1.0</td>\n",
              "      <td>[0.0, 2.1791401333367157, 0.0, 2.374...</td>\n",
              "    </tr>\n",
              "    <tr>\n",
              "      <th>3</th>\n",
              "      <td>1</td>\n",
              "      <td>89</td>\n",
              "      <td>66</td>\n",
              "      <td>23</td>\n",
              "      <td>94</td>\n",
              "      <td>28.1</td>\n",
              "      <td>...</td>\n",
              "      <td>under 25</td>\n",
              "      <td>0.0</td>\n",
              "      <td>(1.0, 0.0, 0.0)</td>\n",
              "      <td>[1.0, 0.0, 0.0, 1.0, 89.0, 66.0, 23....</td>\n",
              "      <td>0.0</td>\n",
              "      <td>[2.098474993842542, 0.0, 0.0, 0.2967...</td>\n",
              "    </tr>\n",
              "    <tr>\n",
              "      <th>4</th>\n",
              "      <td>0</td>\n",
              "      <td>137</td>\n",
              "      <td>40</td>\n",
              "      <td>35</td>\n",
              "      <td>168</td>\n",
              "      <td>43.1</td>\n",
              "      <td>...</td>\n",
              "      <td>between 25 and 35</td>\n",
              "      <td>1.0</td>\n",
              "      <td>(0.0, 1.0, 0.0)</td>\n",
              "      <td>[0.0, 1.0, 0.0, 0.0, 137.0, 40.0, 35...</td>\n",
              "      <td>1.0</td>\n",
              "      <td>[0.0, 2.1791401333367157, 0.0, 0.0, ...</td>\n",
              "    </tr>\n",
              "  </tbody>\n",
              "</table>\n",
              "<p>5 rows × 14 columns</p>\n",
              "</div>"
            ],
            "text/plain": [
              "   Pregnancies  Glucose  BloodPressure  SkinThickness  Insulin   BMI  ...  \\\n",
              "0            6      148             72             35        0  33.6  ...   \n",
              "1            1       85             66             29        0  26.6  ...   \n",
              "2            8      183             64              0        0  23.3  ...   \n",
              "3            1       89             66             23       94  28.1  ...   \n",
              "4            0      137             40             35      168  43.1  ...   \n",
              "\n",
              "             Age_udf Age_udfIdx      Age_encoded  \\\n",
              "0            over 50        3.0  (0.0, 0.0, 0.0)   \n",
              "1  between 25 and 35        1.0  (0.0, 1.0, 0.0)   \n",
              "2  between 25 and 35        1.0  (0.0, 1.0, 0.0)   \n",
              "3           under 25        0.0  (1.0, 0.0, 0.0)   \n",
              "4  between 25 and 35        1.0  (0.0, 1.0, 0.0)   \n",
              "\n",
              "                          vectorized_feats label  \\\n",
              "0  [0.0, 0.0, 0.0, 6.0, 148.0, 72.0, 35...   1.0   \n",
              "1  [0.0, 1.0, 0.0, 1.0, 85.0, 66.0, 29....   0.0   \n",
              "2  [0.0, 1.0, 0.0, 8.0, 183.0, 64.0, 0....   1.0   \n",
              "3  [1.0, 0.0, 0.0, 1.0, 89.0, 66.0, 23....   0.0   \n",
              "4  [0.0, 1.0, 0.0, 0.0, 137.0, 40.0, 35...   1.0   \n",
              "\n",
              "                                  features  \n",
              "0  [0.0, 0.0, 0.0, 1.7806383732194306, ...  \n",
              "1  [0.0, 2.1791401333367157, 0.0, 0.296...  \n",
              "2  [0.0, 2.1791401333367157, 0.0, 2.374...  \n",
              "3  [2.098474993842542, 0.0, 0.0, 0.2967...  \n",
              "4  [0.0, 2.1791401333367157, 0.0, 0.0, ...  \n",
              "\n",
              "[5 rows x 14 columns]"
            ]
          },
          "metadata": {},
          "execution_count": 51
        }
      ]
    },
    {
      "cell_type": "markdown",
      "metadata": {
        "id": "OjFKkzzqN33N"
      },
      "source": [
        "### **3º método**\n"
      ]
    },
    {
      "cell_type": "markdown",
      "metadata": {
        "id": "VjDVI18-AcjC"
      },
      "source": [
        "**Uma maneira mais fácil de construir pipeline**\n",
        "\n",
        "O código a seguir foi retirado do [site oficial](https://docs.databricks.com/spark/latest/mllib/binary-classification-mllib-pipelines.html) do [databricks](https://docs.databricks.com/spark/latest/mllib/binary-classification-mllib-pipelines.html). <br>Em primeiro lugar, determinamos colunas categóricas. Em seguida, ele indexa cada coluna categórica usando o `StringIndexer`. Depois disso, ele converte as categorias indexadas em variáveis ​​codificadas _one-hot_. <br>A saída resultante tem os **vetores binários** anexados ao final de cada linha. Usamos o StringIndexer novamente para codificar nossos rótulos para índices de rótulos. Em seguida, usamos o `VectorAssembler` para combinar todas as colunas de recursos em uma única coluna de vetor. <br>Como uma etapa final, usamos `StandardScaler` para distribuir nossos recursos normalmente."
      ]
    },
    {
      "cell_type": "code",
      "metadata": {
        "collapsed": true,
        "id": "Po6x5rANN33N"
      },
      "source": [
        "categoricalColumns = ['Age_udf']\n",
        "stages = []\n",
        "\n",
        "for categoricalCol in categoricalColumns:\n",
        "    stringIndexer = StringIndexer(inputCol = categoricalCol, outputCol = categoricalCol + 'Index')\n",
        "    encoder = OneHotEncoder(inputCols = [stringIndexer.getOutputCol()], outputCols = [categoricalCol + 'classVec'])\n",
        "    stages += [stringIndexer, encoder]\n",
        "\n",
        "label_stringIdx = StringIndexer(inputCol = 'Diabetes', outputCol = 'label')\n",
        "stages += [label_stringIdx]\n",
        "\n",
        "numericCols = ['Pregnancies', 'Glucose', 'BloodPressure', 'SkinThickness', \n",
        "               'Insulin', 'BMI', 'DiabetesPedigreeFunction']\n",
        "               \n",
        "assemblerInputs = [c + 'classVec' for c in categoricalColumns] + numericCols\n",
        "\n",
        "assembler = VectorAssembler(inputCols = assemblerInputs, outputCol = 'vectorized_feats')\n",
        "stages += [assembler]\n",
        "\n",
        "scaler = StandardScaler(inputCol = 'vectorized_feats', outputCol = 'features')\n",
        "stages += [scaler]"
      ],
      "execution_count": 52,
      "outputs": []
    },
    {
      "cell_type": "code",
      "metadata": {
        "collapsed": true,
        "id": "BHj1WgLnN33N"
      },
      "source": [
        "cols = df.columns"
      ],
      "execution_count": 53,
      "outputs": []
    },
    {
      "cell_type": "code",
      "metadata": {
        "colab": {
          "base_uri": "https://localhost:8080/"
        },
        "id": "jVYxcygMN33N",
        "outputId": "99c1aba7-581a-4fcb-ef2c-d982e8381498"
      },
      "source": [
        "cols"
      ],
      "execution_count": 54,
      "outputs": [
        {
          "output_type": "execute_result",
          "data": {
            "text/plain": [
              "['Pregnancies',\n",
              " 'Glucose',\n",
              " 'BloodPressure',\n",
              " 'SkinThickness',\n",
              " 'Insulin',\n",
              " 'BMI',\n",
              " 'DiabetesPedigreeFunction',\n",
              " 'Diabetes',\n",
              " 'Age_udf']"
            ]
          },
          "metadata": {},
          "execution_count": 54
        }
      ]
    },
    {
      "cell_type": "code",
      "metadata": {
        "colab": {
          "base_uri": "https://localhost:8080/"
        },
        "id": "pf62ykCbN33O",
        "outputId": "81036c57-08d7-4628-8047-f1bdf6582f8b"
      },
      "source": [
        "stages"
      ],
      "execution_count": 55,
      "outputs": [
        {
          "output_type": "execute_result",
          "data": {
            "text/plain": [
              "[StringIndexer_08452502d6da,\n",
              " OneHotEncoder_ed7c8581a13d,\n",
              " StringIndexer_e842fdaa5123,\n",
              " VectorAssembler_de158b96c135,\n",
              " StandardScaler_fa51d0ce2e36]"
            ]
          },
          "metadata": {},
          "execution_count": 55
        }
      ]
    },
    {
      "cell_type": "code",
      "metadata": {
        "colab": {
          "base_uri": "https://localhost:8080/"
        },
        "id": "39kLCYtFN33O",
        "outputId": "4c3b6117-2879-460e-df26-c292d201afe6"
      },
      "source": [
        "cols = df.columns\n",
        "\n",
        "pipeline = Pipeline(stages = stages)\n",
        "\n",
        "pipelineModel = pipeline.fit(df)\n",
        "df = pipelineModel.transform(df)\n",
        "\n",
        "selectedCols = ['label', 'features'] + cols\n",
        "df = df.select(selectedCols)\n",
        "\n",
        "df.printSchema()"
      ],
      "execution_count": 56,
      "outputs": [
        {
          "output_type": "stream",
          "name": "stdout",
          "text": [
            "root\n",
            " |-- label: double (nullable = false)\n",
            " |-- features: vector (nullable = true)\n",
            " |-- Pregnancies: integer (nullable = true)\n",
            " |-- Glucose: integer (nullable = true)\n",
            " |-- BloodPressure: integer (nullable = true)\n",
            " |-- SkinThickness: integer (nullable = true)\n",
            " |-- Insulin: integer (nullable = true)\n",
            " |-- BMI: double (nullable = true)\n",
            " |-- DiabetesPedigreeFunction: double (nullable = true)\n",
            " |-- Diabetes: string (nullable = true)\n",
            " |-- Age_udf: string (nullable = true)\n",
            "\n"
          ]
        }
      ]
    },
    {
      "cell_type": "code",
      "metadata": {
        "colab": {
          "base_uri": "https://localhost:8080/",
          "height": 206
        },
        "id": "R9Jr4ILfN33O",
        "outputId": "c7d29d8d-8681-4505-c638-391a693286fe"
      },
      "source": [
        "df.toPandas().head()"
      ],
      "execution_count": 57,
      "outputs": [
        {
          "output_type": "execute_result",
          "data": {
            "text/html": [
              "<div>\n",
              "<style scoped>\n",
              "    .dataframe tbody tr th:only-of-type {\n",
              "        vertical-align: middle;\n",
              "    }\n",
              "\n",
              "    .dataframe tbody tr th {\n",
              "        vertical-align: top;\n",
              "    }\n",
              "\n",
              "    .dataframe thead th {\n",
              "        text-align: right;\n",
              "    }\n",
              "</style>\n",
              "<table border=\"1\" class=\"dataframe\">\n",
              "  <thead>\n",
              "    <tr style=\"text-align: right;\">\n",
              "      <th></th>\n",
              "      <th>label</th>\n",
              "      <th>features</th>\n",
              "      <th>Pregnancies</th>\n",
              "      <th>Glucose</th>\n",
              "      <th>BloodPressure</th>\n",
              "      <th>SkinThickness</th>\n",
              "      <th>Insulin</th>\n",
              "      <th>BMI</th>\n",
              "      <th>DiabetesPedigreeFunction</th>\n",
              "      <th>Diabetes</th>\n",
              "      <th>Age_udf</th>\n",
              "    </tr>\n",
              "  </thead>\n",
              "  <tbody>\n",
              "    <tr>\n",
              "      <th>0</th>\n",
              "      <td>1.0</td>\n",
              "      <td>[0.0, 0.0, 0.0, 1.7806383732194306, ...</td>\n",
              "      <td>6</td>\n",
              "      <td>148</td>\n",
              "      <td>72</td>\n",
              "      <td>35</td>\n",
              "      <td>0</td>\n",
              "      <td>33.6</td>\n",
              "      <td>0.627</td>\n",
              "      <td>yes</td>\n",
              "      <td>over 50</td>\n",
              "    </tr>\n",
              "    <tr>\n",
              "      <th>1</th>\n",
              "      <td>0.0</td>\n",
              "      <td>[0.0, 2.1791401333367157, 0.0, 0.296...</td>\n",
              "      <td>1</td>\n",
              "      <td>85</td>\n",
              "      <td>66</td>\n",
              "      <td>29</td>\n",
              "      <td>0</td>\n",
              "      <td>26.6</td>\n",
              "      <td>0.351</td>\n",
              "      <td>No</td>\n",
              "      <td>between 25 and 35</td>\n",
              "    </tr>\n",
              "    <tr>\n",
              "      <th>2</th>\n",
              "      <td>1.0</td>\n",
              "      <td>[0.0, 2.1791401333367157, 0.0, 2.374...</td>\n",
              "      <td>8</td>\n",
              "      <td>183</td>\n",
              "      <td>64</td>\n",
              "      <td>0</td>\n",
              "      <td>0</td>\n",
              "      <td>23.3</td>\n",
              "      <td>0.672</td>\n",
              "      <td>yes</td>\n",
              "      <td>between 25 and 35</td>\n",
              "    </tr>\n",
              "    <tr>\n",
              "      <th>3</th>\n",
              "      <td>0.0</td>\n",
              "      <td>[2.098474993842542, 0.0, 0.0, 0.2967...</td>\n",
              "      <td>1</td>\n",
              "      <td>89</td>\n",
              "      <td>66</td>\n",
              "      <td>23</td>\n",
              "      <td>94</td>\n",
              "      <td>28.1</td>\n",
              "      <td>0.167</td>\n",
              "      <td>No</td>\n",
              "      <td>under 25</td>\n",
              "    </tr>\n",
              "    <tr>\n",
              "      <th>4</th>\n",
              "      <td>1.0</td>\n",
              "      <td>[0.0, 2.1791401333367157, 0.0, 0.0, ...</td>\n",
              "      <td>0</td>\n",
              "      <td>137</td>\n",
              "      <td>40</td>\n",
              "      <td>35</td>\n",
              "      <td>168</td>\n",
              "      <td>43.1</td>\n",
              "      <td>2.288</td>\n",
              "      <td>yes</td>\n",
              "      <td>between 25 and 35</td>\n",
              "    </tr>\n",
              "  </tbody>\n",
              "</table>\n",
              "</div>"
            ],
            "text/plain": [
              "   label                                 features  Pregnancies  Glucose  \\\n",
              "0    1.0  [0.0, 0.0, 0.0, 1.7806383732194306, ...            6      148   \n",
              "1    0.0  [0.0, 2.1791401333367157, 0.0, 0.296...            1       85   \n",
              "2    1.0  [0.0, 2.1791401333367157, 0.0, 2.374...            8      183   \n",
              "3    0.0  [2.098474993842542, 0.0, 0.0, 0.2967...            1       89   \n",
              "4    1.0  [0.0, 2.1791401333367157, 0.0, 0.0, ...            0      137   \n",
              "\n",
              "   BloodPressure  SkinThickness  Insulin   BMI  DiabetesPedigreeFunction  \\\n",
              "0             72             35        0  33.6                     0.627   \n",
              "1             66             29        0  26.6                     0.351   \n",
              "2             64              0        0  23.3                     0.672   \n",
              "3             66             23       94  28.1                     0.167   \n",
              "4             40             35      168  43.1                     2.288   \n",
              "\n",
              "  Diabetes            Age_udf  \n",
              "0      yes            over 50  \n",
              "1       No  between 25 and 35  \n",
              "2      yes  between 25 and 35  \n",
              "3       No           under 25  \n",
              "4      yes  between 25 and 35  "
            ]
          },
          "metadata": {},
          "execution_count": 57
        }
      ]
    },
    {
      "cell_type": "markdown",
      "metadata": {
        "id": "FkXIQBmEN33O"
      },
      "source": [
        "## **Divisão do conjunto de dados em treino e teste**"
      ]
    },
    {
      "cell_type": "markdown",
      "metadata": {
        "id": "ROIWKpFHCBdd"
      },
      "source": [
        "Temos total de 768 observações presente no conjunto de dados e, iremos dividir o conjunto de dados, 70% para treinamento do modelo e o restante, 30% para teste."
      ]
    },
    {
      "cell_type": "code",
      "metadata": {
        "colab": {
          "base_uri": "https://localhost:8080/"
        },
        "id": "FIo-gBhgN33O",
        "outputId": "b849a751-ba0f-44fc-dc88-52e9b3f27c89"
      },
      "source": [
        "train, test = df.randomSplit([0.7, 0.3], seed = 42)\n",
        "\n",
        "print('Dados para treinamento: ' + str(train.count()))\n",
        "print('Dados para teste: ' + str(test.count()))"
      ],
      "execution_count": 58,
      "outputs": [
        {
          "output_type": "stream",
          "name": "stdout",
          "text": [
            "Dados para treinamento: 547\n",
            "Dados para teste: 221\n"
          ]
        }
      ]
    },
    {
      "cell_type": "code",
      "metadata": {
        "colab": {
          "base_uri": "https://localhost:8080/"
        },
        "id": "xWe1Ci9wN33O",
        "outputId": "4f25ff28-331b-485d-b446-c819b116d5a6"
      },
      "source": [
        "train.groupby('Diabetes').count().show()"
      ],
      "execution_count": 59,
      "outputs": [
        {
          "output_type": "stream",
          "name": "stdout",
          "text": [
            "+--------+-----+\n",
            "|Diabetes|count|\n",
            "+--------+-----+\n",
            "|      No|  349|\n",
            "|     yes|  198|\n",
            "+--------+-----+\n",
            "\n"
          ]
        }
      ]
    },
    {
      "cell_type": "markdown",
      "metadata": {
        "id": "WfhCjcHNN33P"
      },
      "source": [
        "**Treinamento de modelo**"
      ]
    },
    {
      "cell_type": "code",
      "metadata": {
        "id": "SGFS2cmdDBhv"
      },
      "source": [
        "from pyspark.ml.classification import LogisticRegression"
      ],
      "execution_count": 60,
      "outputs": []
    },
    {
      "cell_type": "code",
      "metadata": {
        "colab": {
          "base_uri": "https://localhost:8080/",
          "height": 363
        },
        "id": "VwbAGP5PN33P",
        "outputId": "ca0efeb2-2252-49f5-f3ba-c68a266f9df2"
      },
      "source": [
        "lr = LogisticRegression(featuresCol = 'features', labelCol = 'label', maxIter=5)\n",
        "\n",
        "lrModel = lr.fit(train)\n",
        "predictions = lrModel.transform(test)\n",
        "\n",
        "#predictions_train = lrModel.transform(train)\n",
        "predictions.select('label', 'features',  'rawPrediction', 'prediction', 'probability').toPandas().head(10)"
      ],
      "execution_count": 61,
      "outputs": [
        {
          "output_type": "execute_result",
          "data": {
            "text/html": [
              "<div>\n",
              "<style scoped>\n",
              "    .dataframe tbody tr th:only-of-type {\n",
              "        vertical-align: middle;\n",
              "    }\n",
              "\n",
              "    .dataframe tbody tr th {\n",
              "        vertical-align: top;\n",
              "    }\n",
              "\n",
              "    .dataframe thead th {\n",
              "        text-align: right;\n",
              "    }\n",
              "</style>\n",
              "<table border=\"1\" class=\"dataframe\">\n",
              "  <thead>\n",
              "    <tr style=\"text-align: right;\">\n",
              "      <th></th>\n",
              "      <th>label</th>\n",
              "      <th>features</th>\n",
              "      <th>rawPrediction</th>\n",
              "      <th>prediction</th>\n",
              "      <th>probability</th>\n",
              "    </tr>\n",
              "  </thead>\n",
              "  <tbody>\n",
              "    <tr>\n",
              "      <th>0</th>\n",
              "      <td>0.0</td>\n",
              "      <td>(2.098474993842542, 0.0, 0.0, 0.5935...</td>\n",
              "      <td>[0.8259323736971699, -0.825932373697...</td>\n",
              "      <td>0.0</td>\n",
              "      <td>[0.6954941653271036, 0.3045058346728...</td>\n",
              "    </tr>\n",
              "    <tr>\n",
              "      <th>1</th>\n",
              "      <td>0.0</td>\n",
              "      <td>(2.098474993842542, 0.0, 0.0, 0.0, 3...</td>\n",
              "      <td>[1.8226685930692328, -1.822668593069...</td>\n",
              "      <td>0.0</td>\n",
              "      <td>[0.8608860290385492, 0.1391139709614...</td>\n",
              "    </tr>\n",
              "    <tr>\n",
              "      <th>2</th>\n",
              "      <td>0.0</td>\n",
              "      <td>(2.098474993842542, 0.0, 0.0, 0.0, 3...</td>\n",
              "      <td>[1.7771792394516923, -1.777179239451...</td>\n",
              "      <td>0.0</td>\n",
              "      <td>[0.8553482095433572, 0.1446517904566...</td>\n",
              "    </tr>\n",
              "    <tr>\n",
              "      <th>3</th>\n",
              "      <td>0.0</td>\n",
              "      <td>(2.098474993842542, 0.0, 0.0, 0.0, 3...</td>\n",
              "      <td>[2.207661377035781, -2.207661377035781]</td>\n",
              "      <td>0.0</td>\n",
              "      <td>[0.9009353984556185, 0.0990646015443...</td>\n",
              "    </tr>\n",
              "    <tr>\n",
              "      <th>4</th>\n",
              "      <td>0.0</td>\n",
              "      <td>(2.098474993842542, 0.0, 0.0, 0.0, 2...</td>\n",
              "      <td>[0.8985607781927555, -0.898560778192...</td>\n",
              "      <td>0.0</td>\n",
              "      <td>[0.7106536523312756, 0.2893463476687...</td>\n",
              "    </tr>\n",
              "    <tr>\n",
              "      <th>5</th>\n",
              "      <td>0.0</td>\n",
              "      <td>(0.0, 2.1791401333367157, 0.0, 1.780...</td>\n",
              "      <td>[-0.3260038412217334, 0.326003841221...</td>\n",
              "      <td>1.0</td>\n",
              "      <td>[0.4192132666380051, 0.5807867333619...</td>\n",
              "    </tr>\n",
              "    <tr>\n",
              "      <th>6</th>\n",
              "      <td>0.0</td>\n",
              "      <td>(0.0, 2.1791401333367157, 0.0, 0.0, ...</td>\n",
              "      <td>[1.1201506450479144, -1.120150645047...</td>\n",
              "      <td>0.0</td>\n",
              "      <td>[0.7540166584893252, 0.2459833415106...</td>\n",
              "    </tr>\n",
              "    <tr>\n",
              "      <th>7</th>\n",
              "      <td>0.0</td>\n",
              "      <td>(0.0, 0.0, 2.354615257971737, 0.0, 3...</td>\n",
              "      <td>[0.7187753643403545, -0.718775364340...</td>\n",
              "      <td>0.0</td>\n",
              "      <td>[0.6723372869643282, 0.3276627130356...</td>\n",
              "    </tr>\n",
              "    <tr>\n",
              "      <th>8</th>\n",
              "      <td>0.0</td>\n",
              "      <td>(0.0, 0.0, 2.354615257971737, 0.0, 3...</td>\n",
              "      <td>[-1.0336454139944904, 1.033645413994...</td>\n",
              "      <td>1.0</td>\n",
              "      <td>[0.26237797526141954, 0.737622024738...</td>\n",
              "    </tr>\n",
              "    <tr>\n",
              "      <th>9</th>\n",
              "      <td>0.0</td>\n",
              "      <td>(0.0, 0.0, 0.0, 0.29677306220323846,...</td>\n",
              "      <td>[0.2773649406036499, -0.277364940603...</td>\n",
              "      <td>0.0</td>\n",
              "      <td>[0.5689000859856598, 0.4310999140143...</td>\n",
              "    </tr>\n",
              "  </tbody>\n",
              "</table>\n",
              "</div>"
            ],
            "text/plain": [
              "   label                                 features  \\\n",
              "0    0.0  (2.098474993842542, 0.0, 0.0, 0.5935...   \n",
              "1    0.0  (2.098474993842542, 0.0, 0.0, 0.0, 3...   \n",
              "2    0.0  (2.098474993842542, 0.0, 0.0, 0.0, 3...   \n",
              "3    0.0  (2.098474993842542, 0.0, 0.0, 0.0, 3...   \n",
              "4    0.0  (2.098474993842542, 0.0, 0.0, 0.0, 2...   \n",
              "5    0.0  (0.0, 2.1791401333367157, 0.0, 1.780...   \n",
              "6    0.0  (0.0, 2.1791401333367157, 0.0, 0.0, ...   \n",
              "7    0.0  (0.0, 0.0, 2.354615257971737, 0.0, 3...   \n",
              "8    0.0  (0.0, 0.0, 2.354615257971737, 0.0, 3...   \n",
              "9    0.0  (0.0, 0.0, 0.0, 0.29677306220323846,...   \n",
              "\n",
              "                             rawPrediction  prediction  \\\n",
              "0  [0.8259323736971699, -0.825932373697...         0.0   \n",
              "1  [1.8226685930692328, -1.822668593069...         0.0   \n",
              "2  [1.7771792394516923, -1.777179239451...         0.0   \n",
              "3  [2.207661377035781, -2.207661377035781]         0.0   \n",
              "4  [0.8985607781927555, -0.898560778192...         0.0   \n",
              "5  [-0.3260038412217334, 0.326003841221...         1.0   \n",
              "6  [1.1201506450479144, -1.120150645047...         0.0   \n",
              "7  [0.7187753643403545, -0.718775364340...         0.0   \n",
              "8  [-1.0336454139944904, 1.033645413994...         1.0   \n",
              "9  [0.2773649406036499, -0.277364940603...         0.0   \n",
              "\n",
              "                               probability  \n",
              "0  [0.6954941653271036, 0.3045058346728...  \n",
              "1  [0.8608860290385492, 0.1391139709614...  \n",
              "2  [0.8553482095433572, 0.1446517904566...  \n",
              "3  [0.9009353984556185, 0.0990646015443...  \n",
              "4  [0.7106536523312756, 0.2893463476687...  \n",
              "5  [0.4192132666380051, 0.5807867333619...  \n",
              "6  [0.7540166584893252, 0.2459833415106...  \n",
              "7  [0.6723372869643282, 0.3276627130356...  \n",
              "8  [0.26237797526141954, 0.737622024738...  \n",
              "9  [0.5689000859856598, 0.4310999140143...  "
            ]
          },
          "metadata": {},
          "execution_count": 61
        }
      ]
    },
    {
      "cell_type": "markdown",
      "metadata": {
        "id": "IMvbgWp0DzmQ"
      },
      "source": [
        "## **Avaliação do modelo**"
      ]
    },
    {
      "cell_type": "markdown",
      "metadata": {
        "id": "Psi-j-sDD3rI"
      },
      "source": [
        "Podemos usar `BinaryClassificationEvaluator` para avaliar nosso modelo.\n",
        "\n",
        "Observe que a métrica padrão para o _BinaryClassificationEvaluator_ é `areaUnderROC`.\n",
        "\n",
        "_ROC_ é uma curva de probabilidade e _AUC_ representa o grau ou medida de separabilidade. \n",
        "- ROC informa o quanto o modelo é capaz de distinguir entre as classes. \n",
        "- Quanto maior a AUC, melhor o modelo distingue entre pacientes com diabetes e sem diabetes."
      ]
    },
    {
      "cell_type": "code",
      "metadata": {
        "colab": {
          "base_uri": "https://localhost:8080/"
        },
        "id": "T7FanobDDj2M",
        "outputId": "15b01a6c-76af-4565-88be-53a23f504f4f"
      },
      "source": [
        "from pyspark.ml.evaluation import BinaryClassificationEvaluator\n",
        "evaluator = BinaryClassificationEvaluator()\n",
        "print('Teste da área sobre ROC:', evaluator.evaluate(predictions))"
      ],
      "execution_count": 62,
      "outputs": [
        {
          "output_type": "stream",
          "name": "stdout",
          "text": [
            "Teste da área sobre ROC: 0.7013245033112583\n"
          ]
        }
      ]
    },
    {
      "cell_type": "markdown",
      "metadata": {
        "id": "6jTLjzDfN33P"
      },
      "source": [
        "**Precisão do modelo**\n"
      ]
    },
    {
      "cell_type": "code",
      "metadata": {
        "collapsed": true,
        "id": "mSbqz_mGN33P"
      },
      "source": [
        "import itertools\n",
        "\n",
        "class_names=[1.0 ,0.0]\n",
        "\n",
        "def plot_confusion_matrix(cm, classes,\n",
        "                          normalize = False,\n",
        "                          title = 'Matriz de confusão',\n",
        "                          cmap = plt.cm.Blues):\n",
        "    \n",
        "    '''\n",
        "    Esta função imprime e plota a matriz de confusão.\n",
        "    A normalização pode ser aplicada definindo `normalize = True`.\n",
        "    '''\n",
        "\n",
        "    if normalize:\n",
        "        cm = cm.astype('float') / cm.sum(axis = 1)[:, np.newaxis]\n",
        "        print('Matriz de confusão [normalizada]\\n')\n",
        "    else:\n",
        "        print('Matriz de confusão [sem normalização]\\n')\n",
        "\n",
        "    print(cm)\n",
        "\n",
        "    plt.imshow(cm, interpolation = 'nearest', cmap = cmap)\n",
        "    plt.title(title)\n",
        "    plt.colorbar()\n",
        "    tick_marks = np.arange(len(classes))\n",
        "    plt.xticks(tick_marks, classes, rotation = 45)\n",
        "    plt.yticks(tick_marks, classes)\n",
        "\n",
        "    fmt = '.2f' if normalize else 'd'\n",
        "    thresh = cm.max() / 2.0\n",
        "\n",
        "    for i, j in itertools.product(range(cm.shape[0]), range(cm.shape[1])):\n",
        "        plt.text(j, i, format(cm[i, j], fmt),\n",
        "                 horizontalalignment = 'center',\n",
        "                 color = 'white' if cm[i, j] > thresh else 'black')\n",
        "\n",
        "    plt.tight_layout()\n",
        "    plt.ylabel('Rótulo verdadeiro - True label')\n",
        "    plt.xlabel('Rótulo previsto - Predicted label')"
      ],
      "execution_count": 83,
      "outputs": []
    },
    {
      "cell_type": "code",
      "metadata": {
        "id": "c83DIsmaGAO5"
      },
      "source": [
        "from sklearn.metrics import confusion_matrix\n",
        "import numpy as np"
      ],
      "execution_count": 84,
      "outputs": []
    },
    {
      "cell_type": "code",
      "metadata": {
        "colab": {
          "base_uri": "https://localhost:8080/",
          "height": 416
        },
        "id": "6jTP2Sl3N33P",
        "outputId": "475b0cc1-36c2-4e1d-bdee-39a0084e2dfd"
      },
      "source": [
        "y_true = predictions.select('label')\n",
        "y_true = y_true.toPandas()\n",
        "\n",
        "y_pred = predictions.select('prediction')\n",
        "y_pred = y_pred.toPandas()\n",
        "\n",
        "cnf_matrix = confusion_matrix(y_true, y_pred,labels = class_names)\n",
        "\n",
        "# matriz de confusão\n",
        "plt.figure()\n",
        "plot_confusion_matrix(cnf_matrix, classes=class_names,\n",
        "                      title = 'Matriz de Confusão')\n",
        "print('\\n')\n",
        "plt.show();"
      ],
      "execution_count": 85,
      "outputs": [
        {
          "output_type": "stream",
          "name": "stdout",
          "text": [
            "Matriz de confusão [sem normalização]\n",
            "\n",
            "[[ 19  51]\n",
            " [  4 147]]\n",
            "\n",
            "\n"
          ]
        },
        {
          "output_type": "display_data",
          "data": {
            "image/png": "[encoded data removed]",
            "text/plain": [
              "<Figure size 432x288 with 2 Axes>"
            ]
          },
          "metadata": {
            "needs_background": "light"
          }
        }
      ]
    },
    {
      "cell_type": "markdown",
      "metadata": {
        "id": "J__d6F5WN33P"
      },
      "source": [
        "**Acurácia do modelo**"
      ]
    },
    {
      "cell_type": "code",
      "metadata": {
        "colab": {
          "base_uri": "https://localhost:8080/"
        },
        "id": "c2njtrHCN33Q",
        "outputId": "a9f1a473-a1f7-4daf-bbda-5411106f9972"
      },
      "source": [
        "accuracy = predictions.filter(predictions.label == predictions.prediction)\\\n",
        "    .count() / float(predictions.count())\n",
        "    \n",
        "print('Accuracy: ', accuracy)"
      ],
      "execution_count": 86,
      "outputs": [
        {
          "output_type": "stream",
          "name": "stdout",
          "text": [
            "Accuracy:  0.751131221719457\n"
          ]
        }
      ]
    },
    {
      "cell_type": "code",
      "metadata": {
        "colab": {
          "base_uri": "https://localhost:8080/",
          "height": 548
        },
        "id": "s5a5ydPnN33Q",
        "outputId": "97df2bd0-3948-4e6a-96b5-7d8f7287b731"
      },
      "source": [
        "trainingSummary = lrModel.summary\n",
        "roc = trainingSummary.roc.toPandas()\n",
        "\n",
        "plt.figure(figsize = (10,8))\n",
        "plt.plot(roc['FPR'],roc['TPR'])\n",
        "plt.ylabel('False Positive Rate')\n",
        "plt.xlabel('True Positive Rate')\n",
        "plt.title('ROC Curve')\n",
        "plt.show();\n",
        "\n",
        "print('\\nTraining set areaUnderROC: ' + str(trainingSummary.areaUnderROC))"
      ],
      "execution_count": 87,
      "outputs": [
        {
          "output_type": "display_data",
          "data": {
            "image/png": "[encoded data removed]",
            "text/plain": [
              "<Figure size 720x576 with 1 Axes>"
            ]
          },
          "metadata": {
            "needs_background": "light"
          }
        },
        {
          "output_type": "stream",
          "name": "stdout",
          "text": [
            "\n",
            "Training set areaUnderROC: 0.7712077798037666\n"
          ]
        }
      ]
    },
    {
      "cell_type": "markdown",
      "metadata": {
        "id": "V_TMnNJjN33R"
      },
      "source": [
        "## **Validação cruzada e ajuste de parâmetro**"
      ]
    },
    {
      "cell_type": "markdown",
      "metadata": {
        "id": "NDNEdePpICjU"
      },
      "source": [
        "Agora vamos tentar ajustar o modelo com o `ParamGridBuilder` e o `CrossValidator`.\n",
        "\n",
        "Se você não tiver certeza de quais parâmetros estão disponíveis para ajuste, você pode usar `explainParams()` para imprimir uma lista de todos os parâmetros e suas definições."
      ]
    },
    {
      "cell_type": "code",
      "metadata": {
        "id": "cIX6iydPN33R"
      },
      "source": [
        "from pyspark.ml.tuning import ParamGridBuilder, CrossValidator\n",
        "\n",
        "# criando o ParamGrid para validação cruzada\n",
        "paramGrid = (ParamGridBuilder()\n",
        "             .addGrid(lr.regParam, [0.01, 0.5, 2.0])    # parâmetro de regularização\n",
        "             .addGrid(lr.elasticNetParam, [0.0, 0.5, 1.0])  # parâmetro de rede elástica (Ridge = 0)\n",
        "             .addGrid(lr.maxIter, [1, 5, 10])   # número de iterações\n",
        "             .build())\n",
        "\n",
        "cv = CrossValidator(estimator = lr, estimatorParamMaps = paramGrid, \n",
        "                    evaluator = evaluator, numFolds = 5)\n",
        "\n",
        "cvModel = cv.fit(train)"
      ],
      "execution_count": 88,
      "outputs": []
    },
    {
      "cell_type": "markdown",
      "metadata": {
        "id": "quB9wkQxIvRF"
      },
      "source": [
        "> Como indicamos 3 valores para regParam (parâmetro de regularização), 3 valores para maxIter (número de iterações) e 3 valores para elasticNetParam (parâmetro de rede elástica), esta grade terá 3 x 3 x 3 = 27 configurações de parâmetro para CrossValidator escolher. Criamos o validador cruzado de 5 etapas."
      ]
    },
    {
      "cell_type": "markdown",
      "metadata": {
        "id": "WmjZQpTcN33R"
      },
      "source": [
        "## **Melhor Desempenho de Modelo**"
      ]
    },
    {
      "cell_type": "markdown",
      "metadata": {
        "id": "k2SAuBvUN33R"
      },
      "source": [
        "## Best Model Performance"
      ]
    },
    {
      "cell_type": "code",
      "metadata": {
        "colab": {
          "base_uri": "https://localhost:8080/"
        },
        "id": "uZemAyOgN33R",
        "outputId": "34975030-82a4-4b7b-ca9b-356ab6ffd7e3"
      },
      "source": [
        "# avaliando o melhor modelo\n",
        "predictions = cvModel.transform(test)\n",
        "print('Melhor área de teste do modelo em ROC:', evaluator.evaluate(predictions))"
      ],
      "execution_count": 69,
      "outputs": [
        {
          "output_type": "stream",
          "name": "stdout",
          "text": [
            "Melhor área de teste do modelo em ROC: 0.7812677388836319\n"
          ]
        }
      ]
    },
    {
      "cell_type": "markdown",
      "metadata": {
        "id": "D99qhmSEN33R"
      },
      "source": [
        "## **Pesos de recursos do melhor modelo**"
      ]
    },
    {
      "cell_type": "code",
      "metadata": {
        "colab": {
          "base_uri": "https://localhost:8080/"
        },
        "id": "PWHpDNojN33R",
        "outputId": "63614b43-3cab-4b3c-f482-f89aa06ffe89"
      },
      "source": [
        "cvModel.bestModel"
      ],
      "execution_count": 70,
      "outputs": [
        {
          "output_type": "execute_result",
          "data": {
            "text/plain": [
              "LogisticRegressionModel: uid=LogisticRegression_67e24faaed16, numClasses=2, numFeatures=10"
            ]
          },
          "metadata": {},
          "execution_count": 70
        }
      ]
    },
    {
      "cell_type": "code",
      "metadata": {
        "id": "XLjH02w0J4yt"
      },
      "source": [
        "from pyspark.sql import SQLContext"
      ],
      "execution_count": 71,
      "outputs": []
    },
    {
      "cell_type": "code",
      "metadata": {
        "id": "DU7dtZplKA29"
      },
      "source": [
        "sc = spark.sparkContext\n",
        "sqlContext = SQLContext(sc)"
      ],
      "execution_count": 72,
      "outputs": []
    },
    {
      "cell_type": "code",
      "metadata": {
        "colab": {
          "base_uri": "https://localhost:8080/",
          "height": 363
        },
        "id": "7UDYGZfjN33S",
        "outputId": "02210448-13a8-4cd9-cc6c-efb222525bab"
      },
      "source": [
        "weights = cvModel.bestModel.coefficients\n",
        "\n",
        "weights = [(float(w),) for w in weights]\n",
        "weightsDF = sqlContext.createDataFrame(weights, ['Peso do recurso para predição do modelo'])\n",
        "\n",
        "weightsDF.toPandas().head(10)"
      ],
      "execution_count": 73,
      "outputs": [
        {
          "output_type": "execute_result",
          "data": {
            "text/html": [
              "<div>\n",
              "<style scoped>\n",
              "    .dataframe tbody tr th:only-of-type {\n",
              "        vertical-align: middle;\n",
              "    }\n",
              "\n",
              "    .dataframe tbody tr th {\n",
              "        vertical-align: top;\n",
              "    }\n",
              "\n",
              "    .dataframe thead th {\n",
              "        text-align: right;\n",
              "    }\n",
              "</style>\n",
              "<table border=\"1\" class=\"dataframe\">\n",
              "  <thead>\n",
              "    <tr style=\"text-align: right;\">\n",
              "      <th></th>\n",
              "      <th>Peso do recurso para predição do modelo</th>\n",
              "    </tr>\n",
              "  </thead>\n",
              "  <tbody>\n",
              "    <tr>\n",
              "      <th>0</th>\n",
              "      <td>-0.159237</td>\n",
              "    </tr>\n",
              "    <tr>\n",
              "      <th>1</th>\n",
              "      <td>0.008193</td>\n",
              "    </tr>\n",
              "    <tr>\n",
              "      <th>2</th>\n",
              "      <td>0.105965</td>\n",
              "    </tr>\n",
              "    <tr>\n",
              "      <th>3</th>\n",
              "      <td>0.088691</td>\n",
              "    </tr>\n",
              "    <tr>\n",
              "      <th>4</th>\n",
              "      <td>0.276403</td>\n",
              "    </tr>\n",
              "    <tr>\n",
              "      <th>5</th>\n",
              "      <td>-0.015411</td>\n",
              "    </tr>\n",
              "    <tr>\n",
              "      <th>6</th>\n",
              "      <td>0.016917</td>\n",
              "    </tr>\n",
              "    <tr>\n",
              "      <th>7</th>\n",
              "      <td>0.066750</td>\n",
              "    </tr>\n",
              "    <tr>\n",
              "      <th>8</th>\n",
              "      <td>0.185800</td>\n",
              "    </tr>\n",
              "    <tr>\n",
              "      <th>9</th>\n",
              "      <td>0.103407</td>\n",
              "    </tr>\n",
              "  </tbody>\n",
              "</table>\n",
              "</div>"
            ],
            "text/plain": [
              "   Peso do recurso para predição do modelo\n",
              "0                                -0.159237\n",
              "1                                 0.008193\n",
              "2                                 0.105965\n",
              "3                                 0.088691\n",
              "4                                 0.276403\n",
              "5                                -0.015411\n",
              "6                                 0.016917\n",
              "7                                 0.066750\n",
              "8                                 0.185800\n",
              "9                                 0.103407"
            ]
          },
          "metadata": {},
          "execution_count": 73
        }
      ]
    },
    {
      "cell_type": "markdown",
      "metadata": {
        "id": "sW9ZidABN33S"
      },
      "source": [
        "## **Parâmetros do melhor modelo**"
      ]
    },
    {
      "cell_type": "code",
      "metadata": {
        "collapsed": true,
        "id": "4YELuwNKN33S"
      },
      "source": [
        "best_model = cvModel.bestModel"
      ],
      "execution_count": 74,
      "outputs": []
    },
    {
      "cell_type": "code",
      "metadata": {
        "colab": {
          "base_uri": "https://localhost:8080/"
        },
        "id": "MD-hQr1yKd6X",
        "outputId": "83437430-e2e4-45cb-b58a-ffcf7a790916"
      },
      "source": [
        "print('Melhor parâmetro (regParam): ', best_model._java_obj.getRegParam())\n",
        "print('Melhor parâmetro (MaxIter): ', best_model._java_obj.getMaxIter())\n",
        "print('Melhor parâmetro (elasticNetParam): ', best_model._java_obj.getElasticNetParam())"
      ],
      "execution_count": 75,
      "outputs": [
        {
          "output_type": "stream",
          "name": "stdout",
          "text": [
            "Melhor parâmetro (regParam):  0.5\n",
            "Melhor parâmetro (MaxIter):  10\n",
            "Melhor parâmetro (elasticNetParam):  0.0\n"
          ]
        }
      ]
    },
    {
      "cell_type": "code",
      "metadata": {
        "colab": {
          "base_uri": "https://localhost:8080/"
        },
        "id": "_G5lfzVoN33S",
        "outputId": "bb04e479-56b2-49ad-8992-79dbb34fff96"
      },
      "source": [
        "best_model.explainParams().split('\\n')"
      ],
      "execution_count": 76,
      "outputs": [
        {
          "output_type": "execute_result",
          "data": {
            "text/plain": [
              "['aggregationDepth: suggested depth for treeAggregate (>= 2). (default: 2)',\n",
              " 'elasticNetParam: the ElasticNet mixing parameter, in range [0, 1]. For alpha = 0, the penalty is an L2 penalty. For alpha = 1, it is an L1 penalty. (default: 0.0, current: 0.0)',\n",
              " 'family: The name of family which is a description of the label distribution to be used in the model. Supported options: auto, binomial, multinomial (default: auto)',\n",
              " 'featuresCol: features column name. (default: features, current: features)',\n",
              " 'fitIntercept: whether to fit an intercept term. (default: True)',\n",
              " 'labelCol: label column name. (default: label, current: label)',\n",
              " 'lowerBoundsOnCoefficients: The lower bounds on coefficients if fitting under bound constrained optimization. The bound matrix must be compatible with the shape (1, number of features) for binomial regression, or (number of classes, number of features) for multinomial regression. (undefined)',\n",
              " 'lowerBoundsOnIntercepts: The lower bounds on intercepts if fitting under bound constrained optimization. The bounds vector size must beequal with 1 for binomial regression, or the number oflasses for multinomial regression. (undefined)',\n",
              " 'maxBlockSizeInMB: maximum memory in MB for stacking input data into blocks. Data is stacked within partitions. If more than remaining data size in a partition then it is adjusted to the data size. Default 0.0 represents choosing optimal value, depends on specific algorithm. Must be >= 0. (default: 0.0)',\n",
              " 'maxIter: max number of iterations (>= 0). (default: 100, current: 10)',\n",
              " 'predictionCol: prediction column name. (default: prediction)',\n",
              " 'probabilityCol: Column name for predicted class conditional probabilities. Note: Not all models output well-calibrated probability estimates! These probabilities should be treated as confidences, not precise probabilities. (default: probability)',\n",
              " 'rawPredictionCol: raw prediction (a.k.a. confidence) column name. (default: rawPrediction)',\n",
              " 'regParam: regularization parameter (>= 0). (default: 0.0, current: 0.5)',\n",
              " 'standardization: whether to standardize the training features before fitting the model. (default: True)',\n",
              " 'threshold: Threshold in binary classification prediction, in range [0, 1]. If threshold and thresholds are both set, they must match.e.g. if threshold is p, then thresholds must be equal to [1-p, p]. (default: 0.5)',\n",
              " \"thresholds: Thresholds in multi-class classification to adjust the probability of predicting each class. Array must have length equal to the number of classes, with values > 0, excepting that at most one value may be 0. The class with largest value p/t is predicted, where p is the original probability of that class and t is the class's threshold. (undefined)\",\n",
              " 'tol: the convergence tolerance for iterative algorithms (>= 0). (default: 1e-06)',\n",
              " 'upperBoundsOnCoefficients: The upper bounds on coefficients if fitting under bound constrained optimization. The bound matrix must be compatible with the shape (1, number of features) for binomial regression, or (number of classes, number of features) for multinomial regression. (undefined)',\n",
              " 'upperBoundsOnIntercepts: The upper bounds on intercepts if fitting under bound constrained optimization. The bound vector size must be equal with 1 for binomial regression, or the number of classes for multinomial regression. (undefined)',\n",
              " 'weightCol: weight column name. If this is not set or empty, we treat all instance weights as 1.0. (undefined)']"
            ]
          },
          "metadata": {},
          "execution_count": 76
        }
      ]
    },
    {
      "cell_type": "code",
      "metadata": {
        "collapsed": true,
        "id": "lwuD_2eIN33S"
      },
      "source": [
        ""
      ],
      "execution_count": 76,
      "outputs": []
    },
    {
      "cell_type": "code",
      "metadata": {
        "id": "fqSlvbr6LJmv"
      },
      "source": [
        ""
      ],
      "execution_count": 76,
      "outputs": []
    },
    {
      "cell_type": "code",
      "metadata": {
        "id": "f8zZ3FT3LJe_"
      },
      "source": [
        ""
      ],
      "execution_count": 76,
      "outputs": []
    }
  ]
}